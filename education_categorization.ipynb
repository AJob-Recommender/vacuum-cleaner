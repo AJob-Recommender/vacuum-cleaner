{
 "cells": [
  {
   "cell_type": "markdown",
   "id": "da02568d",
   "metadata": {
    "pycharm": {
     "name": "#%% md\n"
    }
   },
   "source": [
    "## Education Categorization"
   ]
  },
  {
   "cell_type": "markdown",
   "id": "6199af46",
   "metadata": {
    "pycharm": {
     "name": "#%% md\n"
    }
   },
   "source": [
    "## Importing the libararies"
   ]
  },
  {
   "cell_type": "code",
   "execution_count": 3,
   "id": "b7b74e98",
   "metadata": {
    "pycharm": {
     "name": "#%%\n"
    }
   },
   "outputs": [],
   "source": [
    "import pandas as pd\n",
    "import numpy as np"
   ]
  },
  {
   "cell_type": "markdown",
   "id": "d0e1df64",
   "metadata": {
    "pycharm": {
     "name": "#%% md\n"
    }
   },
   "source": [
    "## Importing the file"
   ]
  },
  {
   "cell_type": "code",
   "execution_count": 4,
   "id": "40790a0d",
   "metadata": {
    "pycharm": {
     "name": "#%%\n"
    }
   },
   "outputs": [
    {
     "data": {
      "text/plain": "                                         Profile URL                Full Name  \\\n0            https://www.linkedin.com/in/amirdaraee/       Amirhossein Daraee   \n1  https://www.linkedin.com/in/ali-tehrani-441065...              Ali Tehrani   \n2             https://www.linkedin.com/in/vahid-msp/          vahid mohammadi   \n3        https://www.linkedin.com/in/mehrdadshabani/          Mehrdad Shabani   \n4  https://www.linkedin.com/in/mohammad-reza-pakz...  Mohammad Reza Pakzadian   \n\n                                         Experiences  \\\n0  [{'name': 'full stack developer', 'place': 'Di...   \n1  [{'name': 'others', 'place': 'Digikala.com · F...   \n2  [{'name': 'full stack developer', 'place': 'Di...   \n3  [{'name': 'full stack developer', 'place': 'Sn...   \n4  [{'name': 'data engineer', 'place': 'Sahab Par...   \n\n                                          Educations  \\\n0  [{'university': 'Shahid Beheshti University', ...   \n1                                                 []   \n2  [{'university': 'Islamic Azad University', 'ma...   \n3  [{'university': 'Islamic Azad University', 'ma...   \n4  [{'university': 'Shahid Beheshti University', ...   \n\n                                              Skills  \n0  [SignalR, C#, .NET Core, .NET Framework, ASP.N...  \n1  [English, Research, Analytical Skills, Problem...  \n2  [PHP, Laravel, WordPress, HTML, Cascading Styl...  \n3  [Python (Programming Language), Data Science, ...  \n4  [Programming, Machine Learning, Front-End Deve...  ",
      "text/html": "<div>\n<style scoped>\n    .dataframe tbody tr th:only-of-type {\n        vertical-align: middle;\n    }\n\n    .dataframe tbody tr th {\n        vertical-align: top;\n    }\n\n    .dataframe thead th {\n        text-align: right;\n    }\n</style>\n<table border=\"1\" class=\"dataframe\">\n  <thead>\n    <tr style=\"text-align: right;\">\n      <th></th>\n      <th>Profile URL</th>\n      <th>Full Name</th>\n      <th>Experiences</th>\n      <th>Educations</th>\n      <th>Skills</th>\n    </tr>\n  </thead>\n  <tbody>\n    <tr>\n      <th>0</th>\n      <td>https://www.linkedin.com/in/amirdaraee/</td>\n      <td>Amirhossein Daraee</td>\n      <td>[{'name': 'full stack developer', 'place': 'Di...</td>\n      <td>[{'university': 'Shahid Beheshti University', ...</td>\n      <td>[SignalR, C#, .NET Core, .NET Framework, ASP.N...</td>\n    </tr>\n    <tr>\n      <th>1</th>\n      <td>https://www.linkedin.com/in/ali-tehrani-441065...</td>\n      <td>Ali Tehrani</td>\n      <td>[{'name': 'others', 'place': 'Digikala.com · F...</td>\n      <td>[]</td>\n      <td>[English, Research, Analytical Skills, Problem...</td>\n    </tr>\n    <tr>\n      <th>2</th>\n      <td>https://www.linkedin.com/in/vahid-msp/</td>\n      <td>vahid mohammadi</td>\n      <td>[{'name': 'full stack developer', 'place': 'Di...</td>\n      <td>[{'university': 'Islamic Azad University', 'ma...</td>\n      <td>[PHP, Laravel, WordPress, HTML, Cascading Styl...</td>\n    </tr>\n    <tr>\n      <th>3</th>\n      <td>https://www.linkedin.com/in/mehrdadshabani/</td>\n      <td>Mehrdad Shabani</td>\n      <td>[{'name': 'full stack developer', 'place': 'Sn...</td>\n      <td>[{'university': 'Islamic Azad University', 'ma...</td>\n      <td>[Python (Programming Language), Data Science, ...</td>\n    </tr>\n    <tr>\n      <th>4</th>\n      <td>https://www.linkedin.com/in/mohammad-reza-pakz...</td>\n      <td>Mohammad Reza Pakzadian</td>\n      <td>[{'name': 'data engineer', 'place': 'Sahab Par...</td>\n      <td>[{'university': 'Shahid Beheshti University', ...</td>\n      <td>[Programming, Machine Learning, Front-End Deve...</td>\n    </tr>\n  </tbody>\n</table>\n</div>"
     },
     "execution_count": 4,
     "metadata": {},
     "output_type": "execute_result"
    }
   ],
   "source": [
    "data = pd.read_json(\"Data/new-jobs/04-8-11-22/new_jobs_2-8-11-22.json\")\n",
    "data.head()"
   ]
  },
  {
   "cell_type": "markdown",
   "id": "4526a226",
   "metadata": {
    "pycharm": {
     "name": "#%% md\n"
    }
   },
   "source": [
    "## Extracting the Educations"
   ]
  },
  {
   "cell_type": "code",
   "execution_count": 5,
   "id": "cc81cbad",
   "metadata": {
    "pycharm": {
     "name": "#%%\n"
    }
   },
   "outputs": [
    {
     "name": "stdout",
     "output_type": "stream",
     "text": [
      "[[list([{'university': 'Shahid Beheshti University', 'major': \"Master's degree, Multimedia\"}, {'university': 'Islamic Azad University', 'major': 'BA, Aerospace'}])]\n",
      " [list([])]\n",
      " [list([{'university': 'Islamic Azad University', 'major': \"Bachelor's degree, Computer Software Engineering\"}, {'university': 'Islamic Azad University', 'major': 'Associate, Computer Software Engineering'}])]\n",
      " [list([{'university': 'Islamic Azad University', 'major': \"Bachelor's degree, Software engineering technology\"}, {'university': 'Islamic Azad University', 'major': \"Associate's degree, Computer Software Engineering\"}, {'university': '<span class=\"white-space-pre\"> </span>Beheshti Vocational Technical Conservatory', 'major': 'High School Diploma, Computer Programming'}])]\n",
      " [list([{'university': 'Shahid Beheshti University', 'major': 'Under graduate student, Computer Engineering'}])]\n",
      " [list([{'university': 'Islamic Azad University SouthTehran', 'major': 'Bachelor’s Degree, Computer Software Engineering'}])]\n",
      " [list([{'university': 'Isfahan University of Technology', 'major': \"Bachelor's degree, Computer Engineering\"}])]\n",
      " [list([{'university': 'Khaje Nasir University Of Technology', 'major': \"Bachelor's Degree, Information Technology\"}])]\n",
      " [list([{'university': 'Guilan University', 'major': \"Bachelor's degree, Computer Software Engineering\"}])]\n",
      " [list([{'university': 'Khayyam University', 'major': \"Bachelor's degree, Computer Software Engineering\"}])]\n",
      " [list([{'university': 'Sharif University of Technology', 'major': 'Master of Science - MS, Optics/Optical Sciences'}, {'university': 'Ferdowsi University of Mashhad', 'major': 'Bachelor of Science - BS, Physics'}])]\n",
      " [list([{'university': 'Bahonar - Shiraz', 'major': 'BS, Computer Software Engineering'}])]\n",
      " [list([{'university': 'Khatam University', 'major': \"Master's degree, Artificial Intelligence\"}, {'university': 'Shahid Beheshti University', 'major': 'Bachelor of Science - BS, Computer Engineering'}, {'university': 'Shahid Sattari (Sampad)', 'major': 'Applied Mathematics and Physics'}])]\n",
      " [list([{'university': 'Zakir Husain College Of Engineering &amp; Technology', 'major': 'Bachelor in Technology, Computer Engineering'}])]\n",
      " [list([{'university': 'Army Institute of Technology, Pune', 'major': 'Bachelor of Engineering - BE, electronics and telecommunication'}, {'university': 'Army public school pune', 'major': '2016 - 2017'}])]\n",
      " [list([{'university': 'Amirkabir University of Technology - Tehran Polytechnic', 'major': \"Master's degree, Artificial Intelligence\"}, {'university': 'university of mazandaran', 'major': \"Bachelor's degree, Computer Software Engineering\"}])]\n",
      " [list([{'university': 'Tarbiat Modares University', 'major': 'Master\\'s degree, Information Technology<span class=\"white-space-pre\"> </span>'}, {'university': 'Shahid Beheshti University', 'major': \"Bachelor's degree, Computer Software Engineering\"}])]\n",
      " [list([{'university': 'Azad University (IAU)', 'major': 'Master of Science - MS, Artificial Intelligence'}, {'university': 'Sadjad University of Technology', 'major': \"Bachelor's degree, Computer Hardware Engineering\"}])]\n",
      " [list([{'university': 'University of Tehran', 'major': \"Bachelor's degree, Computer Engineering\"}])]\n",
      " [list([{'university': 'KTH Royal Institute of Technology', 'major': 'Master of Science - MS, Software Engineering of Distributed Systems'}, {'university': 'Tarbiat Modares University', 'major': 'Management Information Systems, General'}, {'university': 'University of Science and Culture', 'major': \"Bachelor's degree, Computer Software Engineering\"}])]\n",
      " [list([{'university': 'National University of Computer and Emerging Sciences', 'major': 'Bachelor of Science (BS), Computer Science'}])]\n",
      " [list([{'university': 'University of Victoria', 'major': \"Master's degree, Computer Science\"}, {'university': 'Alzahra University', 'major': \"Bachelor's degree, Computer Software Engineering\"}])]\n",
      " [list([{'university': 'University of Illinois Urbana-Champaign', 'major': 'Graduate , Information Management<span class=\"white-space-pre\"> </span>'}, {'university': 'Dwarkadas J. Sanghvi College of Engineering', 'major': 'Bachelor of Engineering - BE, Electrical, Electronics and TeleCommunications Engineering'}, {'university': 'PACE Junior Science College', 'major': 'HSC, Science'}])]\n",
      " [list([{'university': 'IEC COLLEGF OF ENGINEERING AND TECHNOLOGY', 'major': 'B.tech, Computer Science Engineering'}, {'university': 'Theosophical Inter College', 'major': '2004 - 2009'}, {'university': 'Maharshi Vidya Mandir', 'major': '1997 - 2004'}])]\n",
      " [list([{'university': 'University at Buffalo', 'major': 'Master of Science - MS, Data Science'}, {'university': 'L.D. College of Engineering', 'major': \"Bachelor's degree, Information Technology\"}])]\n",
      " [list([])]\n",
      " [list([{'university': 'The University of Texas at Dallas', 'major': 'Master of Science (M.S.), Business Analytics'}, {'university': 'Anna University', 'major': 'Bachelor of Engineering (BE), Computer Science and Engineering'}, {'university': 'DAV', 'major': 'Computer Science'}])]\n",
      " [list([{'university': 'EFREI Paris', 'major': 'Master of Science in Computer Science, Business Intelligence &amp; Big Data'}, {'university': 'Université Paris-Est Marne-la-Vallée', 'major': 'Bachelor’s Degree, Sciences and Technology with distinction'}, {'university': 'San Jose State University', 'major': 'Information technology'}])]\n",
      " [list([{'university': 'Indiana University Bloomington', 'major': 'Master of Science (MS), Data Science'}, {'university': 'IBS Business School, Pune', 'major': 'Master of Business Administration (MBA), Finance'}, {'university': 'Savitribai Phule Pune University', 'major': 'Bachelor of Engineering (B.E.), Computer Science'}])]\n",
      " [list([{'university': 'Iran University of Science and Technology', 'major': 'Master of Engineering (M.Eng.), Information Technology'}, {'university': 'Shahid Bahonar University of Kerman', 'major': \"Bachelor's degree, Computer Science\"}])]\n",
      " [list([{'university': 'George Mason University', 'major': \"Bachelor's of Science, Information Systems\"}])]\n",
      " [list([{'university': 'Syracuse University School of Information Studies', 'major': \"Master's degree, Information Management\"}, {'university': 'CMR Institute Of Technology', 'major': 'Bachelor of Technology, Computer Science'}])]\n",
      " [list([{'university': 'Cochin University of Science and Technology', 'major': \"Bachelor's Degree\"}, {'university': 'IJMHSS Kottiyoor', 'major': 'High School, Secondary education'}])]\n",
      " [list([{'university': 'University of South Florida Muma College of Business', 'major': \"Master's degree, Business Analytics and Information Systems\"}, {'university': 'MEDICAPS INSTITUTE OF TECHNOLOGY AND MANAGEMENT, INDORE', 'major': \"Bachelor's degree, Information Technology\"}])]\n",
      " [list([{'university': 'Amity University', 'major': 'Bachelor of Technology (B.Tech.), Electrical, Electronics and Communications Engineering'}])]]\n"
     ]
    }
   ],
   "source": [
    "educations = data.iloc[:, 3:4].values\n",
    "print(educations)"
   ]
  },
  {
   "cell_type": "markdown",
   "id": "c8b6719a",
   "metadata": {
    "pycharm": {
     "name": "#%% md\n"
    }
   },
   "source": [
    "## Education Categories"
   ]
  },
  {
   "cell_type": "code",
   "execution_count": 6,
   "id": "75489db7",
   "metadata": {
    "pycharm": {
     "name": "#%%\n"
    }
   },
   "outputs": [],
   "source": [
    "EDUCATIONS = [\n",
    "    \"bachelor-computer engineering\",\n",
    "    \"master-computer engineering\",\n",
    "    \"phd-computer engineering\",\n",
    "\n",
    "    \"others\",\n",
    "]"
   ]
  },
  {
   "cell_type": "code",
   "execution_count": 7,
   "id": "25d2b71e",
   "metadata": {
    "pycharm": {
     "name": "#%%\n"
    }
   },
   "outputs": [],
   "source": [
    "new_educations = []\n",
    "# print(experiences)\n",
    "for education in educations:\n",
    "    new_education = []\n",
    "    for item in education[0]:\n",
    "        new_item = {\"university\": item['university'], \"major\": \"\"}\n",
    "\n",
    "        if (\"bachelor\" in item['major'].lower().split() or \"bachelors\" in item['major'].lower().split() or \"bachelor's\" in item['major'].lower().split()) and (\"computer\" in item['major'].lower().split() or \"it\" in item['major'].lower().split() or (\"information\" in item['major'].lower().split() and \"technology\" in item['major'].lower().split())) and (\"master\" not in item['major'].lower().split() and \"masters\" not in item['major'].lower().split() and \"master's\" not in item['major'].lower().split()):\n",
    "            new_item[\"major\"] = EDUCATIONS[0]\n",
    "\n",
    "        elif (\"master\" in item['major'].lower().split() or \"masters\" in item['major'].lower().split() or \"msc\" in item['major'].lower().split() or \"master's\" in item['major'].lower().split() or \"mcs\" in item['major'].lower().split() or \"masters(\" in item['major'].lower().split() or \"master(\" in item['major'].lower().split()) and (\"computer\" in item['major'].lower().split() or \"ai\" in item['major'].lower().split() or (\"artificial\" in item['major'].lower().split() and \"intelligence\" in item['major'].lower().split()) or (\"data\" in item['major'].lower().split() and \"science\" in item['major'].lower().split())):\n",
    "            new_item[\"major\"] = EDUCATIONS[1]\n",
    "\n",
    "        elif (\"p.h.d\" in item['major'].lower().split() or \"ph.d\" in item['major'].lower().split() or \"p.hd\" in item['major'].lower().split() or \"phd\" in item['major'].lower().split() or (\"doctor\" in item['major'].lower().split() and \"philosophy\" in item['major'].lower().split())) and \"computer\" in item['major'].lower().split():\n",
    "            new_item[\"major\"] = EDUCATIONS[2]\n",
    "\n",
    "        elif (\"information\"  in item['major'].lower().split() and \"technology\"  in item['major'].lower().split() or \"computer\"  in item['major'].lower().split() or \"it\"  in item['major'].lower().split()) and \"bachelor\" not  in item['major'].lower().split() and \"bachelor's\" not  in item['major'].lower().split() and \"bsc\" not  in item['major'].lower().split() and \"master\" not in item['major'].lower().split() and \"masters\" not  in item['major'].lower().split() and \"phd\" not  in item['major'].lower().split() and \"ms.c\" not in item['major'].lower().split():\n",
    "            new_item[\"major\"] = EDUCATIONS[0]\n",
    "\n",
    "        else:\n",
    "            new_item[\"major\"] = EDUCATIONS[3]\n",
    "        new_education.append(new_item)\n",
    "    new_educations.append(np.array(new_education))"
   ]
  },
  {
   "cell_type": "code",
   "execution_count": 8,
   "id": "e7594078",
   "metadata": {
    "pycharm": {
     "name": "#%%\n"
    }
   },
   "outputs": [],
   "source": [
    "data[\"Educations\"] = new_educations"
   ]
  },
  {
   "cell_type": "markdown",
   "id": "a613a21a",
   "metadata": {
    "pycharm": {
     "name": "#%% md\n"
    }
   },
   "source": [
    "## Exporting to file"
   ]
  },
  {
   "cell_type": "code",
   "execution_count": 9,
   "id": "0d0bc2a8",
   "metadata": {
    "pycharm": {
     "name": "#%%\n"
    }
   },
   "outputs": [],
   "source": [
    "data.to_csv(\"Data/new-educations/03-8-11-22/new_educations-7-8-22_3.csv\")\n",
    "data.to_json(\"Data/new-educations/03-8-11-22/new_educations-7-8-22_3.json\")"
   ]
  },
  {
   "cell_type": "code",
   "execution_count": null,
   "id": "1ddff91d",
   "metadata": {
    "pycharm": {
     "name": "#%%\n"
    }
   },
   "outputs": [],
   "source": []
  }
 ],
 "metadata": {
  "kernelspec": {
   "display_name": "Python 3 (ipykernel)",
   "language": "python",
   "name": "python3"
  },
  "language_info": {
   "codemirror_mode": {
    "name": "ipython",
    "version": 3
   },
   "file_extension": ".py",
   "mimetype": "text/x-python",
   "name": "python",
   "nbconvert_exporter": "python",
   "pygments_lexer": "ipython3",
   "version": "3.9.7"
  }
 },
 "nbformat": 4,
 "nbformat_minor": 5
}