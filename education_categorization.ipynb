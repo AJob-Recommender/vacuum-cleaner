{
 "cells": [
  {
   "cell_type": "markdown",
   "id": "da02568d",
   "metadata": {
    "pycharm": {
     "name": "#%% md\n"
    }
   },
   "source": [
    "## Education Categorization"
   ]
  },
  {
   "cell_type": "markdown",
   "id": "6199af46",
   "metadata": {
    "pycharm": {
     "name": "#%% md\n"
    }
   },
   "source": [
    "## Importing the libararies"
   ]
  },
  {
   "cell_type": "code",
   "execution_count": 3,
   "id": "b7b74e98",
   "metadata": {
    "pycharm": {
     "name": "#%%\n"
    }
   },
   "outputs": [],
   "source": [
    "import pandas as pd\n",
    "import numpy as np"
   ]
  },
  {
   "cell_type": "markdown",
   "id": "d0e1df64",
   "metadata": {
    "pycharm": {
     "name": "#%% md\n"
    }
   },
   "source": [
    "## Importing the file"
   ]
  },
  {
   "cell_type": "code",
   "execution_count": null,
   "id": "40790a0d",
   "metadata": {
    "pycharm": {
     "name": "#%%\n",
     "is_executing": true
    }
   },
   "outputs": [],
   "source": [
    "data = pd.read_json(\"Data/new-jobs/04-8-11-22/new_jobs_2-8-11-22.json\")\n",
    "data.head()"
   ]
  },
  {
   "cell_type": "markdown",
   "id": "4526a226",
   "metadata": {
    "pycharm": {
     "name": "#%% md\n"
    }
   },
   "source": [
    "## Extracting the Educations"
   ]
  },
  {
   "cell_type": "code",
   "execution_count": null,
   "id": "cc81cbad",
   "metadata": {
    "pycharm": {
     "name": "#%%\n",
     "is_executing": true
    }
   },
   "outputs": [],
   "source": [
    "educations = data.iloc[:, 3:4].values\n",
    "print(educations)"
   ]
  },
  {
   "cell_type": "markdown",
   "id": "c8b6719a",
   "metadata": {
    "pycharm": {
     "name": "#%% md\n"
    }
   },
   "source": [
    "## Education Categories"
   ]
  },
  {
   "cell_type": "code",
   "execution_count": 6,
   "id": "75489db7",
   "metadata": {
    "pycharm": {
     "name": "#%%\n"
    }
   },
   "outputs": [],
   "source": [
    "EDUCATIONS = [\n",
    "    \"bachelor-computer engineering\",\n",
    "    \"master-computer engineering\",\n",
    "    \"phd-computer engineering\",\n",
    "\n",
    "    \"others\",\n",
    "]"
   ]
  },
  {
   "cell_type": "code",
   "execution_count": 7,
   "id": "25d2b71e",
   "metadata": {
    "pycharm": {
     "name": "#%%\n"
    }
   },
   "outputs": [],
   "source": [
    "new_educations = []\n",
    "# print(experiences)\n",
    "for education in educations:\n",
    "    new_education = []\n",
    "    for item in education[0]:\n",
    "        new_item = {\"university\": item['university'], \"major\": \"\"}\n",
    "\n",
    "        if (\"bachelor\" in item['major'].lower().split() or \"bachelors\" in item['major'].lower().split() or \"bachelor's\" in item['major'].lower().split()) and (\"computer\" in item['major'].lower().split() or \"it\" in item['major'].lower().split() or (\"information\" in item['major'].lower().split() and \"technology\" in item['major'].lower().split())) and (\"master\" not in item['major'].lower().split() and \"masters\" not in item['major'].lower().split() and \"master's\" not in item['major'].lower().split()):\n",
    "            new_item[\"major\"] = EDUCATIONS[0]\n",
    "\n",
    "        elif (\"master\" in item['major'].lower().split() or \"masters\" in item['major'].lower().split() or \"msc\" in item['major'].lower().split() or \"master's\" in item['major'].lower().split() or \"mcs\" in item['major'].lower().split() or \"masters(\" in item['major'].lower().split() or \"master(\" in item['major'].lower().split()) and (\"computer\" in item['major'].lower().split() or \"ai\" in item['major'].lower().split() or (\"artificial\" in item['major'].lower().split() and \"intelligence\" in item['major'].lower().split()) or (\"data\" in item['major'].lower().split() and \"science\" in item['major'].lower().split())):\n",
    "            new_item[\"major\"] = EDUCATIONS[1]\n",
    "\n",
    "        elif (\"p.h.d\" in item['major'].lower().split() or \"ph.d\" in item['major'].lower().split() or \"p.hd\" in item['major'].lower().split() or \"phd\" in item['major'].lower().split() or (\"doctor\" in item['major'].lower().split() and \"philosophy\" in item['major'].lower().split())) and \"computer\" in item['major'].lower().split():\n",
    "            new_item[\"major\"] = EDUCATIONS[2]\n",
    "\n",
    "        elif (\"information\"  in item['major'].lower().split() and \"technology\"  in item['major'].lower().split() or \"computer\"  in item['major'].lower().split() or \"it\"  in item['major'].lower().split()) and \"bachelor\" not  in item['major'].lower().split() and \"bachelor's\" not  in item['major'].lower().split() and \"bsc\" not  in item['major'].lower().split() and \"master\" not in item['major'].lower().split() and \"masters\" not  in item['major'].lower().split() and \"phd\" not  in item['major'].lower().split() and \"ms.c\" not in item['major'].lower().split():\n",
    "            new_item[\"major\"] = EDUCATIONS[0]\n",
    "\n",
    "        else:\n",
    "            new_item[\"major\"] = EDUCATIONS[3]\n",
    "        new_education.append(new_item)\n",
    "    new_educations.append(np.array(new_education))"
   ]
  },
  {
   "cell_type": "code",
   "execution_count": 8,
   "id": "e7594078",
   "metadata": {
    "pycharm": {
     "name": "#%%\n"
    }
   },
   "outputs": [],
   "source": [
    "data[\"Educations\"] = new_educations"
   ]
  },
  {
   "cell_type": "markdown",
   "id": "a613a21a",
   "metadata": {
    "pycharm": {
     "name": "#%% md\n"
    }
   },
   "source": [
    "## Exporting to file"
   ]
  },
  {
   "cell_type": "code",
   "execution_count": 9,
   "id": "0d0bc2a8",
   "metadata": {
    "pycharm": {
     "name": "#%%\n"
    }
   },
   "outputs": [],
   "source": [
    "data.to_csv(\"Data/new-educations/03-8-11-22/new_educations-7-8-22_3.csv\")\n",
    "data.to_json(\"Data/new-educations/03-8-11-22/new_educations-7-8-22_3.json\")"
   ]
  }
 ],
 "metadata": {
  "kernelspec": {
   "display_name": "Python 3 (ipykernel)",
   "language": "python",
   "name": "python3"
  },
  "language_info": {
   "codemirror_mode": {
    "name": "ipython",
    "version": 3
   },
   "file_extension": ".py",
   "mimetype": "text/x-python",
   "name": "python",
   "nbconvert_exporter": "python",
   "pygments_lexer": "ipython3",
   "version": "3.9.7"
  }
 },
 "nbformat": 4,
 "nbformat_minor": 5
}