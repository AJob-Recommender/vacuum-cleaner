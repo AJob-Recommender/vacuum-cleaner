{
 "cells": [
  {
   "cell_type": "markdown",
   "id": "7f65340b",
   "metadata": {
    "pycharm": {
     "name": "#%% md\n"
    }
   },
   "source": [
    "# Job Categorization"
   ]
  },
  {
   "cell_type": "markdown",
   "id": "1e306803",
   "metadata": {
    "pycharm": {
     "name": "#%% md\n"
    }
   },
   "source": [
    "## Importing the Libraries"
   ]
  },
  {
   "cell_type": "code",
   "execution_count": 9,
   "id": "59cc0ab9",
   "metadata": {
    "pycharm": {
     "name": "#%%\n"
    }
   },
   "outputs": [],
   "source": [
    "import numpy as np\n",
    "import pandas as pd"
   ]
  },
  {
   "cell_type": "markdown",
   "id": "24067067",
   "metadata": {
    "pycharm": {
     "name": "#%% md\n"
    }
   },
   "source": [
    "## Importing the Data"
   ]
  },
  {
   "cell_type": "code",
   "execution_count": null,
   "id": "388ebcf4",
   "metadata": {
    "pycharm": {
     "name": "#%%\n",
     "is_executing": true
    }
   },
   "outputs": [],
   "source": [
    "data = pd.read_json('Data/clean-data-v1/prime/phase2/clean_data_prime-8-11-22.json')\n",
    "data.head()"
   ]
  },
  {
   "cell_type": "markdown",
   "id": "c468aea0",
   "metadata": {
    "pycharm": {
     "name": "#%% md\n"
    }
   },
   "source": [
    "## Extracting the Experiences"
   ]
  },
  {
   "cell_type": "code",
   "execution_count": null,
   "id": "fe23a417",
   "metadata": {
    "pycharm": {
     "name": "#%%\n",
     "is_executing": true
    }
   },
   "outputs": [],
   "source": [
    "experiences = data.iloc[:, 2:3].values\n",
    "print(experiences[0][0])\n",
    "type(experiences[0][0])"
   ]
  },
  {
   "cell_type": "code",
   "execution_count": 14,
   "id": "4be13767",
   "metadata": {
    "pycharm": {
     "name": "#%%\n"
    }
   },
   "outputs": [],
   "source": [
    "JOBS = [\n",
    "    \"software engineer\", #done\n",
    "    \"software test engineer\", #done\n",
    "    \"cloud engineer\", #done\n",
    "    \"devops engineer\", #done\n",
    "    \"sre\", #done\n",
    "    \"full stack developer\", #done\n",
    "    \"backend developer\", #done\n",
    "    \"frontend developer\", #done\n",
    "    \n",
    "    \"data scientist\", #done\n",
    "    \"machine learning engineer\", #done\n",
    "    \"data engineer\", #done\n",
    "    \n",
    "    \"ios developer\", #done\n",
    "    \"android developer\", #done\n",
    "    \n",
    "    \"ui/ux designer\", #done\n",
    "    \n",
    "    \"scrum master\", #done\n",
    "    \n",
    "    \"database administrator\", #done\n",
    "    \n",
    "    \"network security engineer\", #done\n",
    "    \"wireless network engineer\", #done\n",
    "    \"network architect\", #done\n",
    "    \"penetration tester\", #done\n",
    "    \n",
    "    \"cto\", #done\n",
    "    \n",
    "    \"game developer\", #done\n",
    "        \n",
    "    \"hardware engineer\", #done\n",
    "    \n",
    "    \"others\", #done\n",
    "]"
   ]
  },
  {
   "cell_type": "code",
   "execution_count": 15,
   "id": "f9d92cce",
   "metadata": {
    "pycharm": {
     "name": "#%%\n"
    }
   },
   "outputs": [],
   "source": [
    "new_experiences = []\n",
    "# print(experiences)\n",
    "for experience in experiences:\n",
    "    new_experience = []\n",
    "    for item in experience[0]:\n",
    "        new_item = {\"name\": \"\", \"place\": item[\"place\"]}\n",
    "        if \"software\" in item['name'].lower().split() and \"test\" not in item['name'].lower().split() and \"embedded\" not in item['name'].lower().split() and not \"qa\" in item['name'].lower().split() and not \"assurance\" in item['name'].lower().split():\n",
    "            new_item[\"name\"] = \"software engineer\"\n",
    "        elif (\"software\" in item['name'].lower().split() and \"engineer\" in item['name'].lower().split() and 'test' in item['name'].lower().split()) or \"qa\" in item['name'].lower().split() or 'q/a' in item['name'].lower().split() or 'assurance' in item['name'].lower().split():\n",
    "            new_item[\"name\"] = \"software engineer\"\n",
    "        elif \"cloud\" in item['name'].lower().split() and \"devops\" not in item['name'].lower().split():\n",
    "            new_item[\"name\"] = 'devops engineer'\n",
    "        elif \"devops\" in item['name'].lower().split():\n",
    "            new_item[\"name\"] = \"devops engineer\"\n",
    "        elif \"sre\" in item['name'].lower().split() or (\"site\" in item['name'].lower().split() and \"reliability\"):\n",
    "            new_item[\"name\"] = \"devops engineer\"\n",
    "        elif (\"full\" in item['name'].lower().split() and \"stack\" in item['name'].lower().split()) or \"full-stack\" in item['name'].lower().split():\n",
    "            new_item[\"name\"]  = \"full stack developer\"\n",
    "        elif \"backend\" in item['name'].lower().split() or \"back-end\" in item['name'].lower().split():\n",
    "            new_item[\"name\"] = \"software engineer\"\n",
    "        elif \"frontend\" in item['name'].lower().split() or \"front-end\" in item['name'].lower().split() or \"front\" in item['name'].lower().split():\n",
    "            new_item[\"name\"] = \"frontend developer\"\n",
    "        elif \"data\" in item['name'].lower().split() and (\"science\" in item['name'].lower().split() or \"scientist\" in item['name'].lower().split()):\n",
    "            new_item[\"name\"] = \"data scientist\"\n",
    "        elif \"machine\" in item['name'].lower().split() or \"ml\" in item['name'].lower().split():\n",
    "            new_item[\"name\"] = \"machine learning engineer\"\n",
    "        elif \"data\" in item['name'].lower().split() and \"engineer\" in item['name'].lower().split():\n",
    "            new_item[\"name\"] = \"data engineer\"\n",
    "        elif \"ios\" in item['name'].lower().split():\n",
    "            new_item[\"name\"] = \"ios developer\"\n",
    "        elif \"android\" in item['name'].lower().split():\n",
    "            new_item[\"name\"] = \"mobile developer\"\n",
    "        elif \"user\" in item['name'].lower().split() or \"ui\" in item['name'].lower().split() or \"ux\" in item['name'].lower().split() or \"ui/ux\" in item['name'].lower().split():\n",
    "            new_item[\"name\"] = \"ui-ux designer\"\n",
    "        elif \"scrum\" in item['name'].lower().split():\n",
    "            new_item[\"name\"] = \"others\"\n",
    "        elif \"database\" in item['name'].lower().split() or \"dba\" in item['name'].lower().split() or \"db\" in item['name'].lower().split():\n",
    "            new_item[\"name\"] = \"database administrator\"\n",
    "        elif \"network\" in item['name'].lower().split() and \"security\" in item['name'].lower().split():\n",
    "            new_item[\"name\"] = \"network engineer\"\n",
    "        elif \"network\" in item['name'].lower().split() and \"wireless\" in item['name'].lower().split():\n",
    "            new_item[\"name\"] = \"network engineer\"\n",
    "        elif \"network\" in item['name'].lower().split() and \"architect\" in item['name'].lower().split():\n",
    "            new_item[\"name\"] = \"network engineer\"\n",
    "        elif \"penetration\" in item['name'].lower().split():\n",
    "            new_item[\"name\"] = \"network engineer\"\n",
    "        elif \"cto\" in item['name'].lower().split() or \"chief\" in item['name'].lower().split():\n",
    "            new_item[\"name\"] = \"others\"\n",
    "        elif \"game\" in item['name'].lower().split() or \"unity\" in item['name'].lower().split():\n",
    "            new_item[\"name\"] = \"others\"\n",
    "        elif \"hardware\" in item['name'].lower().split() or \"hw\" in item['name'].lower().split() or \"embedded\" in item['name'].lower().split():\n",
    "            new_item[\"name\"] = \"hardware engineer\"\n",
    "        else:\n",
    "            new_item[\"name\"] = \"others\"\n",
    "\n",
    "        new_experience.append(new_item)\n",
    "    new_experiences.append(np.array(new_experience))"
   ]
  },
  {
   "cell_type": "code",
   "execution_count": 16,
   "id": "d934fb1a",
   "metadata": {
    "pycharm": {
     "name": "#%%\n"
    }
   },
   "outputs": [],
   "source": [
    "data[\"Experiences\"] = new_experiences"
   ]
  },
  {
   "cell_type": "code",
   "execution_count": 17,
   "outputs": [],
   "source": [
    "data.to_json(\"Data/new-jobs/04-8-11-22/new_jobs_2-8-11-22.json\")\n",
    "data.to_csv(\"Data/new-jobs/04-8-11-22/new_jobs-8_2-11-22.csv\")"
   ],
   "metadata": {
    "collapsed": false,
    "pycharm": {
     "name": "#%%\n"
    }
   }
  }
 ],
 "metadata": {
  "kernelspec": {
   "display_name": "Python 3 (ipykernel)",
   "language": "python",
   "name": "python3"
  },
  "language_info": {
   "codemirror_mode": {
    "name": "ipython",
    "version": 3
   },
   "file_extension": ".py",
   "mimetype": "text/x-python",
   "name": "python",
   "nbconvert_exporter": "python",
   "pygments_lexer": "ipython3",
   "version": "3.9.7"
  }
 },
 "nbformat": 4,
 "nbformat_minor": 5
}