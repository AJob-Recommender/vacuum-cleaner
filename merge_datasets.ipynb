{
 "cells": [
  {
   "cell_type": "markdown",
   "source": [
    "## Importing the libraries"
   ],
   "metadata": {
    "collapsed": false,
    "pycharm": {
     "name": "#%% md\n"
    }
   }
  },
  {
   "cell_type": "code",
   "execution_count": 28,
   "outputs": [],
   "source": [
    "import numpy as np\n",
    "import pandas as pd"
   ],
   "metadata": {
    "collapsed": false,
    "pycharm": {
     "name": "#%%\n"
    }
   }
  },
  {
   "cell_type": "markdown",
   "source": [
    "## Importing the dataset"
   ],
   "metadata": {
    "collapsed": false,
    "pycharm": {
     "name": "#%% md\n"
    }
   }
  },
  {
   "cell_type": "code",
   "execution_count": 34,
   "outputs": [],
   "source": [
    "data1 = pd.read_json(\"data/new-jobs/03-7-28-22/new_jobs-7-28-22.json\")\n",
    "data2 = pd.read_json(\"data/new-educations/03-8-11-22/new_educations-7-8-22_3.json\")"
   ],
   "metadata": {
    "collapsed": false,
    "pycharm": {
     "name": "#%%\n"
    }
   }
  },
  {
   "cell_type": "markdown",
   "source": [
    "## Merging 2 series"
   ],
   "metadata": {
    "collapsed": false,
    "pycharm": {
     "name": "#%% md\n"
    }
   }
  },
  {
   "cell_type": "code",
   "execution_count": 35,
   "outputs": [
    {
     "data": {
      "text/plain": "                                           Profile URL        Full Name  \\\n0             https://www.linkedin.com/in/evelio-sosa/      Evelio Sosa   \n1    https://www.linkedin.com/in/jyothi-vutukuri-a9...  Jyothi Vutukuri   \n2           https://www.linkedin.com/in/swarnava-basu/    Swarnava Basu   \n3           https://www.linkedin.com/in/adhiradeogade/   Adhira Deogade   \n4             https://www.linkedin.com/in/vikeshyadav/         Vikesh .   \n..                                                 ...              ...   \n631         https://www.linkedin.com/in/oleg-59866244/           Oleg T   \n632         https://www.linkedin.com/in/allaghtavleen/   Tavleen Allagh   \n633      https://www.linkedin.com/in/manu-s-mathew001/      Manu Mathew   \n634  https://www.linkedin.com/in/ankit-gadawe-33482...     Ankit Gadawe   \n635      https://www.linkedin.com/in/akhil--chaudhary/  Akhil Chaudhary   \n\n                                           Experiences  \\\n0                                                   []   \n1    [{'name': 'devops engineer', 'place': 'IBM · F...   \n2    [{'name': 'devops engineer', 'place': 'Codelog...   \n3    [{'name': 'devops engineer', 'place': 'apple ·...   \n4    [{'name': 'devops engineer', 'place': 'Google ...   \n..                                                 ...   \n631  [{'name': 'data engineer', 'place': 'Amazon We...   \n632  [{'name': 'data engineer', 'place': 'Amazon We...   \n633  [{'name': 'data engineer', 'place': 'Amazon We...   \n634  [{'name': 'data engineer', 'place': 'Amazon We...   \n635                                                 []   \n\n                                            Educations  \\\n0    [{'university': 'Texas A&amp;M University', 'm...   \n1    [{'university': 'Jawaharlal Nehru Technologica...   \n2    [{'university': 'Meghnad Saha Institute Of Tec...   \n3                                                   []   \n4    [{'university': 'Maharshi Dayanand University'...   \n..                                                 ...   \n631  [{'university': 'George Mason University', 'ma...   \n632  [{'university': 'Syracuse University School of...   \n633  [{'university': 'Cochin University of Science ...   \n634  [{'university': 'University of South Florida M...   \n635  [{'university': 'Amity University', 'major': '...   \n\n                                                Skills  \n0    [HTML5, Cascading Style Sheets (CSS), Python (...  \n1    [Jenkins, Ansible, Git, AWS, Linux, Maven, She...  \n2    [Microsoft Azure, Amazon Web Services (AWS), G...  \n3    [Machine Learning, Python (Programming Languag...  \n4    [Amazon Web Services (AWS), DevOps, Linux Syst...  \n..                                                 ...  \n631  [Public Speaking, Business Development, Resear...  \n632  [Microsoft Office, Microsoft Excel, SQL, C, My...  \n633  [PL/SQL, Python, Technical Leadership, Busines...  \n634  [Python (Programming Language), Machine Learni...  \n635  [Microsoft Excel, Microsoft Word, Microsoft Po...  \n\n[636 rows x 5 columns]",
      "text/html": "<div>\n<style scoped>\n    .dataframe tbody tr th:only-of-type {\n        vertical-align: middle;\n    }\n\n    .dataframe tbody tr th {\n        vertical-align: top;\n    }\n\n    .dataframe thead th {\n        text-align: right;\n    }\n</style>\n<table border=\"1\" class=\"dataframe\">\n  <thead>\n    <tr style=\"text-align: right;\">\n      <th></th>\n      <th>Profile URL</th>\n      <th>Full Name</th>\n      <th>Experiences</th>\n      <th>Educations</th>\n      <th>Skills</th>\n    </tr>\n  </thead>\n  <tbody>\n    <tr>\n      <th>0</th>\n      <td>https://www.linkedin.com/in/evelio-sosa/</td>\n      <td>Evelio Sosa</td>\n      <td>[]</td>\n      <td>[{'university': 'Texas A&amp;amp;M University', 'm...</td>\n      <td>[HTML5, Cascading Style Sheets (CSS), Python (...</td>\n    </tr>\n    <tr>\n      <th>1</th>\n      <td>https://www.linkedin.com/in/jyothi-vutukuri-a9...</td>\n      <td>Jyothi Vutukuri</td>\n      <td>[{'name': 'devops engineer', 'place': 'IBM · F...</td>\n      <td>[{'university': 'Jawaharlal Nehru Technologica...</td>\n      <td>[Jenkins, Ansible, Git, AWS, Linux, Maven, She...</td>\n    </tr>\n    <tr>\n      <th>2</th>\n      <td>https://www.linkedin.com/in/swarnava-basu/</td>\n      <td>Swarnava Basu</td>\n      <td>[{'name': 'devops engineer', 'place': 'Codelog...</td>\n      <td>[{'university': 'Meghnad Saha Institute Of Tec...</td>\n      <td>[Microsoft Azure, Amazon Web Services (AWS), G...</td>\n    </tr>\n    <tr>\n      <th>3</th>\n      <td>https://www.linkedin.com/in/adhiradeogade/</td>\n      <td>Adhira Deogade</td>\n      <td>[{'name': 'devops engineer', 'place': 'apple ·...</td>\n      <td>[]</td>\n      <td>[Machine Learning, Python (Programming Languag...</td>\n    </tr>\n    <tr>\n      <th>4</th>\n      <td>https://www.linkedin.com/in/vikeshyadav/</td>\n      <td>Vikesh .</td>\n      <td>[{'name': 'devops engineer', 'place': 'Google ...</td>\n      <td>[{'university': 'Maharshi Dayanand University'...</td>\n      <td>[Amazon Web Services (AWS), DevOps, Linux Syst...</td>\n    </tr>\n    <tr>\n      <th>...</th>\n      <td>...</td>\n      <td>...</td>\n      <td>...</td>\n      <td>...</td>\n      <td>...</td>\n    </tr>\n    <tr>\n      <th>631</th>\n      <td>https://www.linkedin.com/in/oleg-59866244/</td>\n      <td>Oleg T</td>\n      <td>[{'name': 'data engineer', 'place': 'Amazon We...</td>\n      <td>[{'university': 'George Mason University', 'ma...</td>\n      <td>[Public Speaking, Business Development, Resear...</td>\n    </tr>\n    <tr>\n      <th>632</th>\n      <td>https://www.linkedin.com/in/allaghtavleen/</td>\n      <td>Tavleen Allagh</td>\n      <td>[{'name': 'data engineer', 'place': 'Amazon We...</td>\n      <td>[{'university': 'Syracuse University School of...</td>\n      <td>[Microsoft Office, Microsoft Excel, SQL, C, My...</td>\n    </tr>\n    <tr>\n      <th>633</th>\n      <td>https://www.linkedin.com/in/manu-s-mathew001/</td>\n      <td>Manu Mathew</td>\n      <td>[{'name': 'data engineer', 'place': 'Amazon We...</td>\n      <td>[{'university': 'Cochin University of Science ...</td>\n      <td>[PL/SQL, Python, Technical Leadership, Busines...</td>\n    </tr>\n    <tr>\n      <th>634</th>\n      <td>https://www.linkedin.com/in/ankit-gadawe-33482...</td>\n      <td>Ankit Gadawe</td>\n      <td>[{'name': 'data engineer', 'place': 'Amazon We...</td>\n      <td>[{'university': 'University of South Florida M...</td>\n      <td>[Python (Programming Language), Machine Learni...</td>\n    </tr>\n    <tr>\n      <th>635</th>\n      <td>https://www.linkedin.com/in/akhil--chaudhary/</td>\n      <td>Akhil Chaudhary</td>\n      <td>[]</td>\n      <td>[{'university': 'Amity University', 'major': '...</td>\n      <td>[Microsoft Excel, Microsoft Word, Microsoft Po...</td>\n    </tr>\n  </tbody>\n</table>\n<p>636 rows × 5 columns</p>\n</div>"
     },
     "execution_count": 35,
     "metadata": {},
     "output_type": "execute_result"
    }
   ],
   "source": [
    "final_series = pd.concat([data1, data2], ignore_index=True)\n",
    "final_series"
   ],
   "metadata": {
    "collapsed": false,
    "pycharm": {
     "name": "#%%\n"
    }
   }
  },
  {
   "cell_type": "code",
   "execution_count": 36,
   "outputs": [
    {
     "ename": "KeyError",
     "evalue": "'Unnamed: 0'",
     "output_type": "error",
     "traceback": [
      "\u001B[1;31m---------------------------------------------------------------------------\u001B[0m",
      "\u001B[1;31mKeyError\u001B[0m                                  Traceback (most recent call last)",
      "\u001B[1;32m~\\anaconda3\\lib\\site-packages\\pandas\\core\\indexes\\base.py\u001B[0m in \u001B[0;36mget_loc\u001B[1;34m(self, key, method, tolerance)\u001B[0m\n\u001B[0;32m   3360\u001B[0m             \u001B[1;32mtry\u001B[0m\u001B[1;33m:\u001B[0m\u001B[1;33m\u001B[0m\u001B[1;33m\u001B[0m\u001B[0m\n\u001B[1;32m-> 3361\u001B[1;33m                 \u001B[1;32mreturn\u001B[0m \u001B[0mself\u001B[0m\u001B[1;33m.\u001B[0m\u001B[0m_engine\u001B[0m\u001B[1;33m.\u001B[0m\u001B[0mget_loc\u001B[0m\u001B[1;33m(\u001B[0m\u001B[0mcasted_key\u001B[0m\u001B[1;33m)\u001B[0m\u001B[1;33m\u001B[0m\u001B[1;33m\u001B[0m\u001B[0m\n\u001B[0m\u001B[0;32m   3362\u001B[0m             \u001B[1;32mexcept\u001B[0m \u001B[0mKeyError\u001B[0m \u001B[1;32mas\u001B[0m \u001B[0merr\u001B[0m\u001B[1;33m:\u001B[0m\u001B[1;33m\u001B[0m\u001B[1;33m\u001B[0m\u001B[0m\n",
      "\u001B[1;32m~\\anaconda3\\lib\\site-packages\\pandas\\_libs\\index.pyx\u001B[0m in \u001B[0;36mpandas._libs.index.IndexEngine.get_loc\u001B[1;34m()\u001B[0m\n",
      "\u001B[1;32m~\\anaconda3\\lib\\site-packages\\pandas\\_libs\\index.pyx\u001B[0m in \u001B[0;36mpandas._libs.index.IndexEngine.get_loc\u001B[1;34m()\u001B[0m\n",
      "\u001B[1;32mpandas\\_libs\\hashtable_class_helper.pxi\u001B[0m in \u001B[0;36mpandas._libs.hashtable.PyObjectHashTable.get_item\u001B[1;34m()\u001B[0m\n",
      "\u001B[1;32mpandas\\_libs\\hashtable_class_helper.pxi\u001B[0m in \u001B[0;36mpandas._libs.hashtable.PyObjectHashTable.get_item\u001B[1;34m()\u001B[0m\n",
      "\u001B[1;31mKeyError\u001B[0m: 'Unnamed: 0'",
      "\nThe above exception was the direct cause of the following exception:\n",
      "\u001B[1;31mKeyError\u001B[0m                                  Traceback (most recent call last)",
      "\u001B[1;32m~\\AppData\\Local\\Temp/ipykernel_16292/3127867488.py\u001B[0m in \u001B[0;36m<module>\u001B[1;34m\u001B[0m\n\u001B[1;32m----> 1\u001B[1;33m \u001B[1;32mdel\u001B[0m \u001B[0mfinal_series\u001B[0m\u001B[1;33m[\u001B[0m\u001B[1;34m\"Unnamed: 0\"\u001B[0m\u001B[1;33m]\u001B[0m\u001B[1;33m\u001B[0m\u001B[1;33m\u001B[0m\u001B[0m\n\u001B[0m",
      "\u001B[1;32m~\\anaconda3\\lib\\site-packages\\pandas\\core\\generic.py\u001B[0m in \u001B[0;36m__delitem__\u001B[1;34m(self, key)\u001B[0m\n\u001B[0;32m   3961\u001B[0m             \u001B[1;31m# there was no match, this call should raise the appropriate\u001B[0m\u001B[1;33m\u001B[0m\u001B[1;33m\u001B[0m\u001B[0m\n\u001B[0;32m   3962\u001B[0m             \u001B[1;31m# exception:\u001B[0m\u001B[1;33m\u001B[0m\u001B[1;33m\u001B[0m\u001B[0m\n\u001B[1;32m-> 3963\u001B[1;33m             \u001B[0mloc\u001B[0m \u001B[1;33m=\u001B[0m \u001B[0mself\u001B[0m\u001B[1;33m.\u001B[0m\u001B[0maxes\u001B[0m\u001B[1;33m[\u001B[0m\u001B[1;33m-\u001B[0m\u001B[1;36m1\u001B[0m\u001B[1;33m]\u001B[0m\u001B[1;33m.\u001B[0m\u001B[0mget_loc\u001B[0m\u001B[1;33m(\u001B[0m\u001B[0mkey\u001B[0m\u001B[1;33m)\u001B[0m\u001B[1;33m\u001B[0m\u001B[1;33m\u001B[0m\u001B[0m\n\u001B[0m\u001B[0;32m   3964\u001B[0m             \u001B[0mself\u001B[0m\u001B[1;33m.\u001B[0m\u001B[0m_mgr\u001B[0m \u001B[1;33m=\u001B[0m \u001B[0mself\u001B[0m\u001B[1;33m.\u001B[0m\u001B[0m_mgr\u001B[0m\u001B[1;33m.\u001B[0m\u001B[0midelete\u001B[0m\u001B[1;33m(\u001B[0m\u001B[0mloc\u001B[0m\u001B[1;33m)\u001B[0m\u001B[1;33m\u001B[0m\u001B[1;33m\u001B[0m\u001B[0m\n\u001B[0;32m   3965\u001B[0m \u001B[1;33m\u001B[0m\u001B[0m\n",
      "\u001B[1;32m~\\anaconda3\\lib\\site-packages\\pandas\\core\\indexes\\base.py\u001B[0m in \u001B[0;36mget_loc\u001B[1;34m(self, key, method, tolerance)\u001B[0m\n\u001B[0;32m   3361\u001B[0m                 \u001B[1;32mreturn\u001B[0m \u001B[0mself\u001B[0m\u001B[1;33m.\u001B[0m\u001B[0m_engine\u001B[0m\u001B[1;33m.\u001B[0m\u001B[0mget_loc\u001B[0m\u001B[1;33m(\u001B[0m\u001B[0mcasted_key\u001B[0m\u001B[1;33m)\u001B[0m\u001B[1;33m\u001B[0m\u001B[1;33m\u001B[0m\u001B[0m\n\u001B[0;32m   3362\u001B[0m             \u001B[1;32mexcept\u001B[0m \u001B[0mKeyError\u001B[0m \u001B[1;32mas\u001B[0m \u001B[0merr\u001B[0m\u001B[1;33m:\u001B[0m\u001B[1;33m\u001B[0m\u001B[1;33m\u001B[0m\u001B[0m\n\u001B[1;32m-> 3363\u001B[1;33m                 \u001B[1;32mraise\u001B[0m \u001B[0mKeyError\u001B[0m\u001B[1;33m(\u001B[0m\u001B[0mkey\u001B[0m\u001B[1;33m)\u001B[0m \u001B[1;32mfrom\u001B[0m \u001B[0merr\u001B[0m\u001B[1;33m\u001B[0m\u001B[1;33m\u001B[0m\u001B[0m\n\u001B[0m\u001B[0;32m   3364\u001B[0m \u001B[1;33m\u001B[0m\u001B[0m\n\u001B[0;32m   3365\u001B[0m         \u001B[1;32mif\u001B[0m \u001B[0mis_scalar\u001B[0m\u001B[1;33m(\u001B[0m\u001B[0mkey\u001B[0m\u001B[1;33m)\u001B[0m \u001B[1;32mand\u001B[0m \u001B[0misna\u001B[0m\u001B[1;33m(\u001B[0m\u001B[0mkey\u001B[0m\u001B[1;33m)\u001B[0m \u001B[1;32mand\u001B[0m \u001B[1;32mnot\u001B[0m \u001B[0mself\u001B[0m\u001B[1;33m.\u001B[0m\u001B[0mhasnans\u001B[0m\u001B[1;33m:\u001B[0m\u001B[1;33m\u001B[0m\u001B[1;33m\u001B[0m\u001B[0m\n",
      "\u001B[1;31mKeyError\u001B[0m: 'Unnamed: 0'"
     ]
    }
   ],
   "source": [
    "del final_series[\"Unnamed: 0\"]"
   ],
   "metadata": {
    "collapsed": false,
    "pycharm": {
     "name": "#%%\n"
    }
   }
  },
  {
   "cell_type": "code",
   "execution_count": 37,
   "outputs": [
    {
     "data": {
      "text/plain": "                                           Profile URL        Full Name  \\\n0             https://www.linkedin.com/in/evelio-sosa/      Evelio Sosa   \n1    https://www.linkedin.com/in/jyothi-vutukuri-a9...  Jyothi Vutukuri   \n2           https://www.linkedin.com/in/swarnava-basu/    Swarnava Basu   \n3           https://www.linkedin.com/in/adhiradeogade/   Adhira Deogade   \n4             https://www.linkedin.com/in/vikeshyadav/         Vikesh .   \n..                                                 ...              ...   \n631         https://www.linkedin.com/in/oleg-59866244/           Oleg T   \n632         https://www.linkedin.com/in/allaghtavleen/   Tavleen Allagh   \n633      https://www.linkedin.com/in/manu-s-mathew001/      Manu Mathew   \n634  https://www.linkedin.com/in/ankit-gadawe-33482...     Ankit Gadawe   \n635      https://www.linkedin.com/in/akhil--chaudhary/  Akhil Chaudhary   \n\n                                           Experiences  \\\n0                                                   []   \n1    [{'name': 'devops engineer', 'place': 'IBM · F...   \n2    [{'name': 'devops engineer', 'place': 'Codelog...   \n3    [{'name': 'devops engineer', 'place': 'apple ·...   \n4    [{'name': 'devops engineer', 'place': 'Google ...   \n..                                                 ...   \n631  [{'name': 'data engineer', 'place': 'Amazon We...   \n632  [{'name': 'data engineer', 'place': 'Amazon We...   \n633  [{'name': 'data engineer', 'place': 'Amazon We...   \n634  [{'name': 'data engineer', 'place': 'Amazon We...   \n635                                                 []   \n\n                                            Educations  \\\n0    [{'university': 'Texas A&amp;M University', 'm...   \n1    [{'university': 'Jawaharlal Nehru Technologica...   \n2    [{'university': 'Meghnad Saha Institute Of Tec...   \n3                                                   []   \n4    [{'university': 'Maharshi Dayanand University'...   \n..                                                 ...   \n631  [{'university': 'George Mason University', 'ma...   \n632  [{'university': 'Syracuse University School of...   \n633  [{'university': 'Cochin University of Science ...   \n634  [{'university': 'University of South Florida M...   \n635  [{'university': 'Amity University', 'major': '...   \n\n                                                Skills  \n0    [HTML5, Cascading Style Sheets (CSS), Python (...  \n1    [Jenkins, Ansible, Git, AWS, Linux, Maven, She...  \n2    [Microsoft Azure, Amazon Web Services (AWS), G...  \n3    [Machine Learning, Python (Programming Languag...  \n4    [Amazon Web Services (AWS), DevOps, Linux Syst...  \n..                                                 ...  \n631  [Public Speaking, Business Development, Resear...  \n632  [Microsoft Office, Microsoft Excel, SQL, C, My...  \n633  [PL/SQL, Python, Technical Leadership, Busines...  \n634  [Python (Programming Language), Machine Learni...  \n635  [Microsoft Excel, Microsoft Word, Microsoft Po...  \n\n[636 rows x 5 columns]",
      "text/html": "<div>\n<style scoped>\n    .dataframe tbody tr th:only-of-type {\n        vertical-align: middle;\n    }\n\n    .dataframe tbody tr th {\n        vertical-align: top;\n    }\n\n    .dataframe thead th {\n        text-align: right;\n    }\n</style>\n<table border=\"1\" class=\"dataframe\">\n  <thead>\n    <tr style=\"text-align: right;\">\n      <th></th>\n      <th>Profile URL</th>\n      <th>Full Name</th>\n      <th>Experiences</th>\n      <th>Educations</th>\n      <th>Skills</th>\n    </tr>\n  </thead>\n  <tbody>\n    <tr>\n      <th>0</th>\n      <td>https://www.linkedin.com/in/evelio-sosa/</td>\n      <td>Evelio Sosa</td>\n      <td>[]</td>\n      <td>[{'university': 'Texas A&amp;amp;M University', 'm...</td>\n      <td>[HTML5, Cascading Style Sheets (CSS), Python (...</td>\n    </tr>\n    <tr>\n      <th>1</th>\n      <td>https://www.linkedin.com/in/jyothi-vutukuri-a9...</td>\n      <td>Jyothi Vutukuri</td>\n      <td>[{'name': 'devops engineer', 'place': 'IBM · F...</td>\n      <td>[{'university': 'Jawaharlal Nehru Technologica...</td>\n      <td>[Jenkins, Ansible, Git, AWS, Linux, Maven, She...</td>\n    </tr>\n    <tr>\n      <th>2</th>\n      <td>https://www.linkedin.com/in/swarnava-basu/</td>\n      <td>Swarnava Basu</td>\n      <td>[{'name': 'devops engineer', 'place': 'Codelog...</td>\n      <td>[{'university': 'Meghnad Saha Institute Of Tec...</td>\n      <td>[Microsoft Azure, Amazon Web Services (AWS), G...</td>\n    </tr>\n    <tr>\n      <th>3</th>\n      <td>https://www.linkedin.com/in/adhiradeogade/</td>\n      <td>Adhira Deogade</td>\n      <td>[{'name': 'devops engineer', 'place': 'apple ·...</td>\n      <td>[]</td>\n      <td>[Machine Learning, Python (Programming Languag...</td>\n    </tr>\n    <tr>\n      <th>4</th>\n      <td>https://www.linkedin.com/in/vikeshyadav/</td>\n      <td>Vikesh .</td>\n      <td>[{'name': 'devops engineer', 'place': 'Google ...</td>\n      <td>[{'university': 'Maharshi Dayanand University'...</td>\n      <td>[Amazon Web Services (AWS), DevOps, Linux Syst...</td>\n    </tr>\n    <tr>\n      <th>...</th>\n      <td>...</td>\n      <td>...</td>\n      <td>...</td>\n      <td>...</td>\n      <td>...</td>\n    </tr>\n    <tr>\n      <th>631</th>\n      <td>https://www.linkedin.com/in/oleg-59866244/</td>\n      <td>Oleg T</td>\n      <td>[{'name': 'data engineer', 'place': 'Amazon We...</td>\n      <td>[{'university': 'George Mason University', 'ma...</td>\n      <td>[Public Speaking, Business Development, Resear...</td>\n    </tr>\n    <tr>\n      <th>632</th>\n      <td>https://www.linkedin.com/in/allaghtavleen/</td>\n      <td>Tavleen Allagh</td>\n      <td>[{'name': 'data engineer', 'place': 'Amazon We...</td>\n      <td>[{'university': 'Syracuse University School of...</td>\n      <td>[Microsoft Office, Microsoft Excel, SQL, C, My...</td>\n    </tr>\n    <tr>\n      <th>633</th>\n      <td>https://www.linkedin.com/in/manu-s-mathew001/</td>\n      <td>Manu Mathew</td>\n      <td>[{'name': 'data engineer', 'place': 'Amazon We...</td>\n      <td>[{'university': 'Cochin University of Science ...</td>\n      <td>[PL/SQL, Python, Technical Leadership, Busines...</td>\n    </tr>\n    <tr>\n      <th>634</th>\n      <td>https://www.linkedin.com/in/ankit-gadawe-33482...</td>\n      <td>Ankit Gadawe</td>\n      <td>[{'name': 'data engineer', 'place': 'Amazon We...</td>\n      <td>[{'university': 'University of South Florida M...</td>\n      <td>[Python (Programming Language), Machine Learni...</td>\n    </tr>\n    <tr>\n      <th>635</th>\n      <td>https://www.linkedin.com/in/akhil--chaudhary/</td>\n      <td>Akhil Chaudhary</td>\n      <td>[]</td>\n      <td>[{'university': 'Amity University', 'major': '...</td>\n      <td>[Microsoft Excel, Microsoft Word, Microsoft Po...</td>\n    </tr>\n  </tbody>\n</table>\n<p>636 rows × 5 columns</p>\n</div>"
     },
     "execution_count": 37,
     "metadata": {},
     "output_type": "execute_result"
    }
   ],
   "source": [
    "final_series"
   ],
   "metadata": {
    "collapsed": false,
    "pycharm": {
     "name": "#%%\n"
    }
   }
  },
  {
   "cell_type": "markdown",
   "source": [
    "## Export to file"
   ],
   "metadata": {
    "collapsed": false,
    "pycharm": {
     "name": "#%% md\n"
    }
   }
  },
  {
   "cell_type": "code",
   "execution_count": 38,
   "outputs": [],
   "source": [
    "final_series.to_csv(\"Data/datasets/data.csv\")\n",
    "final_series.to_json(\"Data/datasets/data.json\")"
   ],
   "metadata": {
    "collapsed": false,
    "pycharm": {
     "name": "#%%\n"
    }
   }
  },
  {
   "cell_type": "code",
   "execution_count": null,
   "outputs": [],
   "source": [],
   "metadata": {
    "collapsed": false,
    "pycharm": {
     "name": "#%%\n"
    }
   }
  }
 ],
 "metadata": {
  "kernelspec": {
   "display_name": "Python 3",
   "language": "python",
   "name": "python3"
  },
  "language_info": {
   "codemirror_mode": {
    "name": "ipython",
    "version": 2
   },
   "file_extension": ".py",
   "mimetype": "text/x-python",
   "name": "python",
   "nbconvert_exporter": "python",
   "pygments_lexer": "ipython2",
   "version": "2.7.6"
  }
 },
 "nbformat": 4,
 "nbformat_minor": 0
}