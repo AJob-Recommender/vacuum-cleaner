{
 "cells": [
  {
   "cell_type": "markdown",
   "source": [
    "## Importing the libraries"
   ],
   "metadata": {
    "collapsed": false,
    "pycharm": {
     "name": "#%% md\n"
    }
   }
  },
  {
   "cell_type": "code",
   "execution_count": 1,
   "outputs": [],
   "source": [
    "import numpy as np\n",
    "import pandas as pd"
   ],
   "metadata": {
    "collapsed": false,
    "pycharm": {
     "name": "#%%\n"
    }
   }
  },
  {
   "cell_type": "markdown",
   "source": [
    "## Importing the dataset"
   ],
   "metadata": {
    "collapsed": false,
    "pycharm": {
     "name": "#%% md\n"
    }
   }
  },
  {
   "cell_type": "code",
   "execution_count": 10,
   "outputs": [],
   "source": [
    "data1 = pd.read_csv(\"data/new-jobs/03-7-28-22/new_jobs-7-28-22.csv\")\n",
    "data2 = pd.read_csv(\"data/new-educations/03-8-11-22/new_educations-7-8-22_3.csv\")"
   ],
   "metadata": {
    "collapsed": false,
    "pycharm": {
     "name": "#%%\n"
    }
   }
  },
  {
   "cell_type": "markdown",
   "source": [
    "## Merging 2 series"
   ],
   "metadata": {
    "collapsed": false,
    "pycharm": {
     "name": "#%% md\n"
    }
   }
  },
  {
   "cell_type": "code",
   "execution_count": 16,
   "outputs": [
    {
     "data": {
      "text/plain": "     Unnamed: 0                                        Profile URL  \\\n0             0           https://www.linkedin.com/in/evelio-sosa/   \n1             1  https://www.linkedin.com/in/jyothi-vutukuri-a9...   \n2             2         https://www.linkedin.com/in/swarnava-basu/   \n3             3         https://www.linkedin.com/in/adhiradeogade/   \n4             4           https://www.linkedin.com/in/vikeshyadav/   \n..          ...                                                ...   \n631          30         https://www.linkedin.com/in/oleg-59866244/   \n632          31         https://www.linkedin.com/in/allaghtavleen/   \n633          32      https://www.linkedin.com/in/manu-s-mathew001/   \n634          33  https://www.linkedin.com/in/ankit-gadawe-33482...   \n635          34      https://www.linkedin.com/in/akhil--chaudhary/   \n\n           Full Name                                        Experiences  \\\n0        Evelio Sosa                                                 []   \n1    Jyothi Vutukuri  [{'name': 'devops engineer', 'place': 'IBM · F...   \n2      Swarnava Basu  [{'name': 'devops engineer', 'place': 'Codelog...   \n3     Adhira Deogade  [{'name': 'devops engineer', 'place': 'apple ·...   \n4           Vikesh .  [{'name': 'devops engineer', 'place': 'Google ...   \n..               ...                                                ...   \n631           Oleg T  [{'name': 'data engineer', 'place': 'Amazon We...   \n632   Tavleen Allagh  [{'name': 'data engineer', 'place': 'Amazon We...   \n633      Manu Mathew  [{'name': 'data engineer', 'place': 'Amazon We...   \n634     Ankit Gadawe  [{'name': 'data engineer', 'place': 'Amazon We...   \n635  Akhil Chaudhary                                                 []   \n\n                                            Educations  \\\n0    [{'university': 'Texas A&amp;M University', 'm...   \n1    [{'university': 'Jawaharlal Nehru Technologica...   \n2    [{'university': 'Meghnad Saha Institute Of Tec...   \n3                                                   []   \n4    [{'university': 'Maharshi Dayanand University'...   \n..                                                 ...   \n631  [{'university': 'George Mason University', 'ma...   \n632  [{'university': 'Syracuse University School of...   \n633  [{'university': 'Cochin University of Science ...   \n634  [{'university': 'University of South Florida M...   \n635  [{'university': 'Amity University', 'major': '...   \n\n                                                Skills  \n0    ['HTML5', 'Cascading Style Sheets (CSS)', 'Pyt...  \n1    ['Jenkins', 'Ansible', 'Git', 'AWS', 'Linux', ...  \n2    ['Microsoft Azure', 'Amazon Web Services (AWS)...  \n3    ['Machine Learning', 'Python (Programming Lang...  \n4    ['Amazon Web Services (AWS)', 'DevOps', 'Linux...  \n..                                                 ...  \n631  ['Public Speaking', 'Business Development', 'R...  \n632  ['Microsoft Office', 'Microsoft Excel', 'SQL',...  \n633  ['PL/SQL', 'Python', 'Technical Leadership', '...  \n634  ['Python (Programming Language)', 'Machine Lea...  \n635  ['Microsoft Excel', 'Microsoft Word', 'Microso...  \n\n[636 rows x 6 columns]",
      "text/html": "<div>\n<style scoped>\n    .dataframe tbody tr th:only-of-type {\n        vertical-align: middle;\n    }\n\n    .dataframe tbody tr th {\n        vertical-align: top;\n    }\n\n    .dataframe thead th {\n        text-align: right;\n    }\n</style>\n<table border=\"1\" class=\"dataframe\">\n  <thead>\n    <tr style=\"text-align: right;\">\n      <th></th>\n      <th>Unnamed: 0</th>\n      <th>Profile URL</th>\n      <th>Full Name</th>\n      <th>Experiences</th>\n      <th>Educations</th>\n      <th>Skills</th>\n    </tr>\n  </thead>\n  <tbody>\n    <tr>\n      <th>0</th>\n      <td>0</td>\n      <td>https://www.linkedin.com/in/evelio-sosa/</td>\n      <td>Evelio Sosa</td>\n      <td>[]</td>\n      <td>[{'university': 'Texas A&amp;amp;M University', 'm...</td>\n      <td>['HTML5', 'Cascading Style Sheets (CSS)', 'Pyt...</td>\n    </tr>\n    <tr>\n      <th>1</th>\n      <td>1</td>\n      <td>https://www.linkedin.com/in/jyothi-vutukuri-a9...</td>\n      <td>Jyothi Vutukuri</td>\n      <td>[{'name': 'devops engineer', 'place': 'IBM · F...</td>\n      <td>[{'university': 'Jawaharlal Nehru Technologica...</td>\n      <td>['Jenkins', 'Ansible', 'Git', 'AWS', 'Linux', ...</td>\n    </tr>\n    <tr>\n      <th>2</th>\n      <td>2</td>\n      <td>https://www.linkedin.com/in/swarnava-basu/</td>\n      <td>Swarnava Basu</td>\n      <td>[{'name': 'devops engineer', 'place': 'Codelog...</td>\n      <td>[{'university': 'Meghnad Saha Institute Of Tec...</td>\n      <td>['Microsoft Azure', 'Amazon Web Services (AWS)...</td>\n    </tr>\n    <tr>\n      <th>3</th>\n      <td>3</td>\n      <td>https://www.linkedin.com/in/adhiradeogade/</td>\n      <td>Adhira Deogade</td>\n      <td>[{'name': 'devops engineer', 'place': 'apple ·...</td>\n      <td>[]</td>\n      <td>['Machine Learning', 'Python (Programming Lang...</td>\n    </tr>\n    <tr>\n      <th>4</th>\n      <td>4</td>\n      <td>https://www.linkedin.com/in/vikeshyadav/</td>\n      <td>Vikesh .</td>\n      <td>[{'name': 'devops engineer', 'place': 'Google ...</td>\n      <td>[{'university': 'Maharshi Dayanand University'...</td>\n      <td>['Amazon Web Services (AWS)', 'DevOps', 'Linux...</td>\n    </tr>\n    <tr>\n      <th>...</th>\n      <td>...</td>\n      <td>...</td>\n      <td>...</td>\n      <td>...</td>\n      <td>...</td>\n      <td>...</td>\n    </tr>\n    <tr>\n      <th>631</th>\n      <td>30</td>\n      <td>https://www.linkedin.com/in/oleg-59866244/</td>\n      <td>Oleg T</td>\n      <td>[{'name': 'data engineer', 'place': 'Amazon We...</td>\n      <td>[{'university': 'George Mason University', 'ma...</td>\n      <td>['Public Speaking', 'Business Development', 'R...</td>\n    </tr>\n    <tr>\n      <th>632</th>\n      <td>31</td>\n      <td>https://www.linkedin.com/in/allaghtavleen/</td>\n      <td>Tavleen Allagh</td>\n      <td>[{'name': 'data engineer', 'place': 'Amazon We...</td>\n      <td>[{'university': 'Syracuse University School of...</td>\n      <td>['Microsoft Office', 'Microsoft Excel', 'SQL',...</td>\n    </tr>\n    <tr>\n      <th>633</th>\n      <td>32</td>\n      <td>https://www.linkedin.com/in/manu-s-mathew001/</td>\n      <td>Manu Mathew</td>\n      <td>[{'name': 'data engineer', 'place': 'Amazon We...</td>\n      <td>[{'university': 'Cochin University of Science ...</td>\n      <td>['PL/SQL', 'Python', 'Technical Leadership', '...</td>\n    </tr>\n    <tr>\n      <th>634</th>\n      <td>33</td>\n      <td>https://www.linkedin.com/in/ankit-gadawe-33482...</td>\n      <td>Ankit Gadawe</td>\n      <td>[{'name': 'data engineer', 'place': 'Amazon We...</td>\n      <td>[{'university': 'University of South Florida M...</td>\n      <td>['Python (Programming Language)', 'Machine Lea...</td>\n    </tr>\n    <tr>\n      <th>635</th>\n      <td>34</td>\n      <td>https://www.linkedin.com/in/akhil--chaudhary/</td>\n      <td>Akhil Chaudhary</td>\n      <td>[]</td>\n      <td>[{'university': 'Amity University', 'major': '...</td>\n      <td>['Microsoft Excel', 'Microsoft Word', 'Microso...</td>\n    </tr>\n  </tbody>\n</table>\n<p>636 rows × 6 columns</p>\n</div>"
     },
     "execution_count": 16,
     "metadata": {},
     "output_type": "execute_result"
    }
   ],
   "source": [
    "final_series = pd.concat([data1, data2], ignore_index=True)\n",
    "final_series"
   ],
   "metadata": {
    "collapsed": false,
    "pycharm": {
     "name": "#%%\n"
    }
   }
  },
  {
   "cell_type": "code",
   "execution_count": 17,
   "outputs": [],
   "source": [
    "del final_series[\"Unnamed: 0\"]"
   ],
   "metadata": {
    "collapsed": false,
    "pycharm": {
     "name": "#%%\n"
    }
   }
  },
  {
   "cell_type": "code",
   "execution_count": 18,
   "outputs": [
    {
     "data": {
      "text/plain": "                                           Profile URL        Full Name  \\\n0             https://www.linkedin.com/in/evelio-sosa/      Evelio Sosa   \n1    https://www.linkedin.com/in/jyothi-vutukuri-a9...  Jyothi Vutukuri   \n2           https://www.linkedin.com/in/swarnava-basu/    Swarnava Basu   \n3           https://www.linkedin.com/in/adhiradeogade/   Adhira Deogade   \n4             https://www.linkedin.com/in/vikeshyadav/         Vikesh .   \n..                                                 ...              ...   \n631         https://www.linkedin.com/in/oleg-59866244/           Oleg T   \n632         https://www.linkedin.com/in/allaghtavleen/   Tavleen Allagh   \n633      https://www.linkedin.com/in/manu-s-mathew001/      Manu Mathew   \n634  https://www.linkedin.com/in/ankit-gadawe-33482...     Ankit Gadawe   \n635      https://www.linkedin.com/in/akhil--chaudhary/  Akhil Chaudhary   \n\n                                           Experiences  \\\n0                                                   []   \n1    [{'name': 'devops engineer', 'place': 'IBM · F...   \n2    [{'name': 'devops engineer', 'place': 'Codelog...   \n3    [{'name': 'devops engineer', 'place': 'apple ·...   \n4    [{'name': 'devops engineer', 'place': 'Google ...   \n..                                                 ...   \n631  [{'name': 'data engineer', 'place': 'Amazon We...   \n632  [{'name': 'data engineer', 'place': 'Amazon We...   \n633  [{'name': 'data engineer', 'place': 'Amazon We...   \n634  [{'name': 'data engineer', 'place': 'Amazon We...   \n635                                                 []   \n\n                                            Educations  \\\n0    [{'university': 'Texas A&amp;M University', 'm...   \n1    [{'university': 'Jawaharlal Nehru Technologica...   \n2    [{'university': 'Meghnad Saha Institute Of Tec...   \n3                                                   []   \n4    [{'university': 'Maharshi Dayanand University'...   \n..                                                 ...   \n631  [{'university': 'George Mason University', 'ma...   \n632  [{'university': 'Syracuse University School of...   \n633  [{'university': 'Cochin University of Science ...   \n634  [{'university': 'University of South Florida M...   \n635  [{'university': 'Amity University', 'major': '...   \n\n                                                Skills  \n0    ['HTML5', 'Cascading Style Sheets (CSS)', 'Pyt...  \n1    ['Jenkins', 'Ansible', 'Git', 'AWS', 'Linux', ...  \n2    ['Microsoft Azure', 'Amazon Web Services (AWS)...  \n3    ['Machine Learning', 'Python (Programming Lang...  \n4    ['Amazon Web Services (AWS)', 'DevOps', 'Linux...  \n..                                                 ...  \n631  ['Public Speaking', 'Business Development', 'R...  \n632  ['Microsoft Office', 'Microsoft Excel', 'SQL',...  \n633  ['PL/SQL', 'Python', 'Technical Leadership', '...  \n634  ['Python (Programming Language)', 'Machine Lea...  \n635  ['Microsoft Excel', 'Microsoft Word', 'Microso...  \n\n[636 rows x 5 columns]",
      "text/html": "<div>\n<style scoped>\n    .dataframe tbody tr th:only-of-type {\n        vertical-align: middle;\n    }\n\n    .dataframe tbody tr th {\n        vertical-align: top;\n    }\n\n    .dataframe thead th {\n        text-align: right;\n    }\n</style>\n<table border=\"1\" class=\"dataframe\">\n  <thead>\n    <tr style=\"text-align: right;\">\n      <th></th>\n      <th>Profile URL</th>\n      <th>Full Name</th>\n      <th>Experiences</th>\n      <th>Educations</th>\n      <th>Skills</th>\n    </tr>\n  </thead>\n  <tbody>\n    <tr>\n      <th>0</th>\n      <td>https://www.linkedin.com/in/evelio-sosa/</td>\n      <td>Evelio Sosa</td>\n      <td>[]</td>\n      <td>[{'university': 'Texas A&amp;amp;M University', 'm...</td>\n      <td>['HTML5', 'Cascading Style Sheets (CSS)', 'Pyt...</td>\n    </tr>\n    <tr>\n      <th>1</th>\n      <td>https://www.linkedin.com/in/jyothi-vutukuri-a9...</td>\n      <td>Jyothi Vutukuri</td>\n      <td>[{'name': 'devops engineer', 'place': 'IBM · F...</td>\n      <td>[{'university': 'Jawaharlal Nehru Technologica...</td>\n      <td>['Jenkins', 'Ansible', 'Git', 'AWS', 'Linux', ...</td>\n    </tr>\n    <tr>\n      <th>2</th>\n      <td>https://www.linkedin.com/in/swarnava-basu/</td>\n      <td>Swarnava Basu</td>\n      <td>[{'name': 'devops engineer', 'place': 'Codelog...</td>\n      <td>[{'university': 'Meghnad Saha Institute Of Tec...</td>\n      <td>['Microsoft Azure', 'Amazon Web Services (AWS)...</td>\n    </tr>\n    <tr>\n      <th>3</th>\n      <td>https://www.linkedin.com/in/adhiradeogade/</td>\n      <td>Adhira Deogade</td>\n      <td>[{'name': 'devops engineer', 'place': 'apple ·...</td>\n      <td>[]</td>\n      <td>['Machine Learning', 'Python (Programming Lang...</td>\n    </tr>\n    <tr>\n      <th>4</th>\n      <td>https://www.linkedin.com/in/vikeshyadav/</td>\n      <td>Vikesh .</td>\n      <td>[{'name': 'devops engineer', 'place': 'Google ...</td>\n      <td>[{'university': 'Maharshi Dayanand University'...</td>\n      <td>['Amazon Web Services (AWS)', 'DevOps', 'Linux...</td>\n    </tr>\n    <tr>\n      <th>...</th>\n      <td>...</td>\n      <td>...</td>\n      <td>...</td>\n      <td>...</td>\n      <td>...</td>\n    </tr>\n    <tr>\n      <th>631</th>\n      <td>https://www.linkedin.com/in/oleg-59866244/</td>\n      <td>Oleg T</td>\n      <td>[{'name': 'data engineer', 'place': 'Amazon We...</td>\n      <td>[{'university': 'George Mason University', 'ma...</td>\n      <td>['Public Speaking', 'Business Development', 'R...</td>\n    </tr>\n    <tr>\n      <th>632</th>\n      <td>https://www.linkedin.com/in/allaghtavleen/</td>\n      <td>Tavleen Allagh</td>\n      <td>[{'name': 'data engineer', 'place': 'Amazon We...</td>\n      <td>[{'university': 'Syracuse University School of...</td>\n      <td>['Microsoft Office', 'Microsoft Excel', 'SQL',...</td>\n    </tr>\n    <tr>\n      <th>633</th>\n      <td>https://www.linkedin.com/in/manu-s-mathew001/</td>\n      <td>Manu Mathew</td>\n      <td>[{'name': 'data engineer', 'place': 'Amazon We...</td>\n      <td>[{'university': 'Cochin University of Science ...</td>\n      <td>['PL/SQL', 'Python', 'Technical Leadership', '...</td>\n    </tr>\n    <tr>\n      <th>634</th>\n      <td>https://www.linkedin.com/in/ankit-gadawe-33482...</td>\n      <td>Ankit Gadawe</td>\n      <td>[{'name': 'data engineer', 'place': 'Amazon We...</td>\n      <td>[{'university': 'University of South Florida M...</td>\n      <td>['Python (Programming Language)', 'Machine Lea...</td>\n    </tr>\n    <tr>\n      <th>635</th>\n      <td>https://www.linkedin.com/in/akhil--chaudhary/</td>\n      <td>Akhil Chaudhary</td>\n      <td>[]</td>\n      <td>[{'university': 'Amity University', 'major': '...</td>\n      <td>['Microsoft Excel', 'Microsoft Word', 'Microso...</td>\n    </tr>\n  </tbody>\n</table>\n<p>636 rows × 5 columns</p>\n</div>"
     },
     "execution_count": 18,
     "metadata": {},
     "output_type": "execute_result"
    }
   ],
   "source": [
    "final_series"
   ],
   "metadata": {
    "collapsed": false,
    "pycharm": {
     "name": "#%%\n"
    }
   }
  },
  {
   "cell_type": "markdown",
   "source": [
    "## Export to file"
   ],
   "metadata": {
    "collapsed": false,
    "pycharm": {
     "name": "#%% md\n"
    }
   }
  },
  {
   "cell_type": "code",
   "execution_count": 19,
   "outputs": [],
   "source": [
    "final_series.to_csv(\"Data/datasets/data.csv\")"
   ],
   "metadata": {
    "collapsed": false,
    "pycharm": {
     "name": "#%%\n"
    }
   }
  },
  {
   "cell_type": "code",
   "execution_count": null,
   "outputs": [],
   "source": [],
   "metadata": {
    "collapsed": false,
    "pycharm": {
     "name": "#%%\n"
    }
   }
  }
 ],
 "metadata": {
  "kernelspec": {
   "display_name": "Python 3",
   "language": "python",
   "name": "python3"
  },
  "language_info": {
   "codemirror_mode": {
    "name": "ipython",
    "version": 2
   },
   "file_extension": ".py",
   "mimetype": "text/x-python",
   "name": "python",
   "nbconvert_exporter": "python",
   "pygments_lexer": "ipython2",
   "version": "2.7.6"
  }
 },
 "nbformat": 4,
 "nbformat_minor": 0
}