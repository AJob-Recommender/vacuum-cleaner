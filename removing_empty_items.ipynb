{
 "cells": [
  {
   "cell_type": "markdown",
   "id": "57cd05ff",
   "metadata": {
    "pycharm": {
     "name": "#%% md\n"
    }
   },
   "source": [
    "# Data Preprocessing"
   ]
  },
  {
   "cell_type": "markdown",
   "id": "4591f77d",
   "metadata": {
    "pycharm": {
     "name": "#%% md\n"
    }
   },
   "source": [
    "## Importing the Libraries"
   ]
  },
  {
   "cell_type": "code",
   "execution_count": 2,
   "id": "a5501baf",
   "metadata": {
    "pycharm": {
     "name": "#%%\n"
    }
   },
   "outputs": [],
   "source": [
    "import numpy as np\n",
    "import pandas as pd\n",
    "import matplotlib.pyplot as plt"
   ]
  },
  {
   "cell_type": "markdown",
   "id": "132322c9",
   "metadata": {
    "pycharm": {
     "name": "#%% md\n"
    }
   },
   "source": [
    "## Importing the Data"
   ]
  },
  {
   "cell_type": "code",
   "execution_count": 3,
   "id": "3df20bdb",
   "metadata": {
    "pycharm": {
     "name": "#%%\n"
    }
   },
   "outputs": [
    {
     "data": {
      "text/plain": "                                         Profile URL                Full Name  \\\n0            https://www.linkedin.com/in/amirdaraee/       Amirhossein Daraee   \n1  https://www.linkedin.com/in/ali-tehrani-441065...              Ali Tehrani   \n2             https://www.linkedin.com/in/vahid-msp/          vahid mohammadi   \n3        https://www.linkedin.com/in/mehrdadshabani/          Mehrdad Shabani   \n4  https://www.linkedin.com/in/mohammad-reza-pakz...  Mohammad Reza Pakzadian   \n\n                                         Experiences  \\\n0  [{'name': 'Full-stack Developer', 'place': 'Di...   \n1  [{'name': 'Web Developer', 'place': 'Digikala....   \n2  [{'name': 'Full Stack Web Developer', 'place':...   \n3  [{'name': 'Full-stack Developer', 'place': 'Sn...   \n4  [{'name': '', 'place': ''}, {'name': '', 'plac...   \n\n                                          Educations  \\\n0  [{'university': 'Shahid Beheshti University', ...   \n1  [{'university': 'Iran University of Science an...   \n2  [{'university': 'Islamic Azad University', 'ma...   \n3  [{'university': 'Islamic Azad University', 'ma...   \n4  [{'university': 'Shahid Beheshti University', ...   \n\n                                              Skills  \n0  [SignalR, C#, .NET Core, .NET Framework, ASP.N...  \n1  [English, Research, Analytical Skills, Problem...  \n2  [PHP, Laravel, WordPress, HTML, Cascading Styl...  \n3  [Python (Programming Language), Data Science, ...  \n4  [Programming, Machine Learning, Front-End Deve...  ",
      "text/html": "<div>\n<style scoped>\n    .dataframe tbody tr th:only-of-type {\n        vertical-align: middle;\n    }\n\n    .dataframe tbody tr th {\n        vertical-align: top;\n    }\n\n    .dataframe thead th {\n        text-align: right;\n    }\n</style>\n<table border=\"1\" class=\"dataframe\">\n  <thead>\n    <tr style=\"text-align: right;\">\n      <th></th>\n      <th>Profile URL</th>\n      <th>Full Name</th>\n      <th>Experiences</th>\n      <th>Educations</th>\n      <th>Skills</th>\n    </tr>\n  </thead>\n  <tbody>\n    <tr>\n      <th>0</th>\n      <td>https://www.linkedin.com/in/amirdaraee/</td>\n      <td>Amirhossein Daraee</td>\n      <td>[{'name': 'Full-stack Developer', 'place': 'Di...</td>\n      <td>[{'university': 'Shahid Beheshti University', ...</td>\n      <td>[SignalR, C#, .NET Core, .NET Framework, ASP.N...</td>\n    </tr>\n    <tr>\n      <th>1</th>\n      <td>https://www.linkedin.com/in/ali-tehrani-441065...</td>\n      <td>Ali Tehrani</td>\n      <td>[{'name': 'Web Developer', 'place': 'Digikala....</td>\n      <td>[{'university': 'Iran University of Science an...</td>\n      <td>[English, Research, Analytical Skills, Problem...</td>\n    </tr>\n    <tr>\n      <th>2</th>\n      <td>https://www.linkedin.com/in/vahid-msp/</td>\n      <td>vahid mohammadi</td>\n      <td>[{'name': 'Full Stack Web Developer', 'place':...</td>\n      <td>[{'university': 'Islamic Azad University', 'ma...</td>\n      <td>[PHP, Laravel, WordPress, HTML, Cascading Styl...</td>\n    </tr>\n    <tr>\n      <th>3</th>\n      <td>https://www.linkedin.com/in/mehrdadshabani/</td>\n      <td>Mehrdad Shabani</td>\n      <td>[{'name': 'Full-stack Developer', 'place': 'Sn...</td>\n      <td>[{'university': 'Islamic Azad University', 'ma...</td>\n      <td>[Python (Programming Language), Data Science, ...</td>\n    </tr>\n    <tr>\n      <th>4</th>\n      <td>https://www.linkedin.com/in/mohammad-reza-pakz...</td>\n      <td>Mohammad Reza Pakzadian</td>\n      <td>[{'name': '', 'place': ''}, {'name': '', 'plac...</td>\n      <td>[{'university': 'Shahid Beheshti University', ...</td>\n      <td>[Programming, Machine Learning, Front-End Deve...</td>\n    </tr>\n  </tbody>\n</table>\n</div>"
     },
     "execution_count": 3,
     "metadata": {},
     "output_type": "execute_result"
    }
   ],
   "source": [
    "data = pd.read_json('Data/clean-data-v1/data-phase2/data.json')\n",
    "data.head()"
   ]
  },
  {
   "cell_type": "markdown",
   "id": "3288aee9",
   "metadata": {
    "pycharm": {
     "name": "#%% md\n"
    }
   },
   "source": [
    "## Removing Empty Experiences"
   ]
  },
  {
   "cell_type": "code",
   "execution_count": 4,
   "id": "983abcb3",
   "metadata": {
    "pycharm": {
     "name": "#%%\n"
    }
   },
   "outputs": [],
   "source": [
    "experiences = np.array(data.iloc[:, 2:3].values)\n",
    "new_experiences = []\n",
    "for experience in experiences:\n",
    "    new_experience = []\n",
    "    for item in experience[0]:\n",
    "        if item['name'] != \"\" and item['place'] != \"\":\n",
    "            new_experience.append(item)\n",
    "    new_experiences.append(np.array(new_experience))"
   ]
  },
  {
   "cell_type": "markdown",
   "id": "efd58ca6",
   "metadata": {
    "pycharm": {
     "name": "#%% md\n"
    }
   },
   "source": [
    "## Removing Empty Educations"
   ]
  },
  {
   "cell_type": "code",
   "execution_count": 5,
   "id": "fd4417b0",
   "metadata": {
    "pycharm": {
     "name": "#%%\n"
    }
   },
   "outputs": [],
   "source": [
    "educations = np.array(data.iloc[:, 3:4].values)\n",
    "new_educations = []\n",
    "for education in educations:\n",
    "    new_education = []\n",
    "    for item in education[0]:\n",
    "        if item['university'] != \"\" and item['major'] != \"\":\n",
    "            new_education.append(item)\n",
    "    new_educations.append(np.array(new_education))"
   ]
  },
  {
   "cell_type": "markdown",
   "id": "6e49f8b7",
   "metadata": {
    "pycharm": {
     "name": "#%% md\n"
    }
   },
   "source": [
    "## Replacing the New Experiences and Educations"
   ]
  },
  {
   "cell_type": "code",
   "execution_count": 6,
   "id": "46b91623",
   "metadata": {
    "pycharm": {
     "name": "#%%\n"
    }
   },
   "outputs": [],
   "source": [
    "data[\"Experiences\"] = new_experiences\n",
    "data[\"Educations\"] = new_educations"
   ]
  },
  {
   "cell_type": "code",
   "execution_count": 7,
   "id": "f8eb9c4a",
   "metadata": {
    "pycharm": {
     "name": "#%%\n"
    }
   },
   "outputs": [
    {
     "data": {
      "text/plain": "                                         Profile URL                Full Name  \\\n0            https://www.linkedin.com/in/amirdaraee/       Amirhossein Daraee   \n1  https://www.linkedin.com/in/ali-tehrani-441065...              Ali Tehrani   \n2             https://www.linkedin.com/in/vahid-msp/          vahid mohammadi   \n3        https://www.linkedin.com/in/mehrdadshabani/          Mehrdad Shabani   \n4  https://www.linkedin.com/in/mohammad-reza-pakz...  Mohammad Reza Pakzadian   \n5  https://www.linkedin.com/in/mohammad-ghafoori-...        Mohammad Ghafoori   \n6  https://www.linkedin.com/in/dayyan-nilisani-76...          dayyan nilisani   \n7        https://www.linkedin.com/in/zarehavanesian/          Zareh Avanesian   \n8         https://www.linkedin.com/in/abbas-dehghan/            Abbas Dehghan   \n9  https://www.linkedin.com/in/mohammad-azizi-004...           Mohammad Azizi   \n\n                                         Experiences  \\\n0  [{'name': 'Full-stack Developer', 'place': 'Di...   \n1  [{'name': 'Web Developer', 'place': 'Digikala....   \n2  [{'name': 'Full Stack Web Developer', 'place':...   \n3  [{'name': 'Full-stack Developer', 'place': 'Sn...   \n4  [{'name': 'big data engineer', 'place': 'Sahab...   \n5  [{'name': 'Full-stack Developer', 'place': 'Sy...   \n6  [{'name': 'Full-stack Developer', 'place': 'Sy...   \n7  [{'name': 'Full Stack Web Developer', 'place':...   \n8  [{'name': 'Senior Full Stack Developer', 'plac...   \n9  [{'name': 'Full Stack Developer', 'place': 'Sy...   \n\n                                          Educations  \\\n0  [{'university': 'Shahid Beheshti University', ...   \n1                                                 []   \n2  [{'university': 'Islamic Azad University', 'ma...   \n3  [{'university': 'Islamic Azad University', 'ma...   \n4  [{'university': 'Shahid Beheshti University', ...   \n5  [{'university': 'Islamic Azad University South...   \n6  [{'university': 'Isfahan University of Technol...   \n7  [{'university': 'Khaje Nasir University Of Tec...   \n8  [{'university': 'Guilan University', 'major': ...   \n9  [{'university': 'Khayyam University', 'major':...   \n\n                                              Skills  \n0  [SignalR, C#, .NET Core, .NET Framework, ASP.N...  \n1  [English, Research, Analytical Skills, Problem...  \n2  [PHP, Laravel, WordPress, HTML, Cascading Styl...  \n3  [Python (Programming Language), Data Science, ...  \n4  [Programming, Machine Learning, Front-End Deve...  \n5  [C#, ASP.NET, ASP.NET MVC, Entity Framework, M...  \n6  [Mobile Application Development, Kotlin, Retro...  \n7  [Web Development, SEO, Linux, Marketing, Web D...  \n8  [Java, C#, Angular, OOP, Object Oriented Desig...  \n9  [Object-Oriented Programming (OOP), C#, asp.ne...  ",
      "text/html": "<div>\n<style scoped>\n    .dataframe tbody tr th:only-of-type {\n        vertical-align: middle;\n    }\n\n    .dataframe tbody tr th {\n        vertical-align: top;\n    }\n\n    .dataframe thead th {\n        text-align: right;\n    }\n</style>\n<table border=\"1\" class=\"dataframe\">\n  <thead>\n    <tr style=\"text-align: right;\">\n      <th></th>\n      <th>Profile URL</th>\n      <th>Full Name</th>\n      <th>Experiences</th>\n      <th>Educations</th>\n      <th>Skills</th>\n    </tr>\n  </thead>\n  <tbody>\n    <tr>\n      <th>0</th>\n      <td>https://www.linkedin.com/in/amirdaraee/</td>\n      <td>Amirhossein Daraee</td>\n      <td>[{'name': 'Full-stack Developer', 'place': 'Di...</td>\n      <td>[{'university': 'Shahid Beheshti University', ...</td>\n      <td>[SignalR, C#, .NET Core, .NET Framework, ASP.N...</td>\n    </tr>\n    <tr>\n      <th>1</th>\n      <td>https://www.linkedin.com/in/ali-tehrani-441065...</td>\n      <td>Ali Tehrani</td>\n      <td>[{'name': 'Web Developer', 'place': 'Digikala....</td>\n      <td>[]</td>\n      <td>[English, Research, Analytical Skills, Problem...</td>\n    </tr>\n    <tr>\n      <th>2</th>\n      <td>https://www.linkedin.com/in/vahid-msp/</td>\n      <td>vahid mohammadi</td>\n      <td>[{'name': 'Full Stack Web Developer', 'place':...</td>\n      <td>[{'university': 'Islamic Azad University', 'ma...</td>\n      <td>[PHP, Laravel, WordPress, HTML, Cascading Styl...</td>\n    </tr>\n    <tr>\n      <th>3</th>\n      <td>https://www.linkedin.com/in/mehrdadshabani/</td>\n      <td>Mehrdad Shabani</td>\n      <td>[{'name': 'Full-stack Developer', 'place': 'Sn...</td>\n      <td>[{'university': 'Islamic Azad University', 'ma...</td>\n      <td>[Python (Programming Language), Data Science, ...</td>\n    </tr>\n    <tr>\n      <th>4</th>\n      <td>https://www.linkedin.com/in/mohammad-reza-pakz...</td>\n      <td>Mohammad Reza Pakzadian</td>\n      <td>[{'name': 'big data engineer', 'place': 'Sahab...</td>\n      <td>[{'university': 'Shahid Beheshti University', ...</td>\n      <td>[Programming, Machine Learning, Front-End Deve...</td>\n    </tr>\n    <tr>\n      <th>5</th>\n      <td>https://www.linkedin.com/in/mohammad-ghafoori-...</td>\n      <td>Mohammad Ghafoori</td>\n      <td>[{'name': 'Full-stack Developer', 'place': 'Sy...</td>\n      <td>[{'university': 'Islamic Azad University South...</td>\n      <td>[C#, ASP.NET, ASP.NET MVC, Entity Framework, M...</td>\n    </tr>\n    <tr>\n      <th>6</th>\n      <td>https://www.linkedin.com/in/dayyan-nilisani-76...</td>\n      <td>dayyan nilisani</td>\n      <td>[{'name': 'Full-stack Developer', 'place': 'Sy...</td>\n      <td>[{'university': 'Isfahan University of Technol...</td>\n      <td>[Mobile Application Development, Kotlin, Retro...</td>\n    </tr>\n    <tr>\n      <th>7</th>\n      <td>https://www.linkedin.com/in/zarehavanesian/</td>\n      <td>Zareh Avanesian</td>\n      <td>[{'name': 'Full Stack Web Developer', 'place':...</td>\n      <td>[{'university': 'Khaje Nasir University Of Tec...</td>\n      <td>[Web Development, SEO, Linux, Marketing, Web D...</td>\n    </tr>\n    <tr>\n      <th>8</th>\n      <td>https://www.linkedin.com/in/abbas-dehghan/</td>\n      <td>Abbas Dehghan</td>\n      <td>[{'name': 'Senior Full Stack Developer', 'plac...</td>\n      <td>[{'university': 'Guilan University', 'major': ...</td>\n      <td>[Java, C#, Angular, OOP, Object Oriented Desig...</td>\n    </tr>\n    <tr>\n      <th>9</th>\n      <td>https://www.linkedin.com/in/mohammad-azizi-004...</td>\n      <td>Mohammad Azizi</td>\n      <td>[{'name': 'Full Stack Developer', 'place': 'Sy...</td>\n      <td>[{'university': 'Khayyam University', 'major':...</td>\n      <td>[Object-Oriented Programming (OOP), C#, asp.ne...</td>\n    </tr>\n  </tbody>\n</table>\n</div>"
     },
     "execution_count": 7,
     "metadata": {},
     "output_type": "execute_result"
    }
   ],
   "source": [
    "data.head(10)"
   ]
  },
  {
   "cell_type": "markdown",
   "id": "8aafe2b8",
   "metadata": {
    "pycharm": {
     "name": "#%% md\n"
    }
   },
   "source": [
    "## Exporting the clean data to file"
   ]
  },
  {
   "cell_type": "code",
   "execution_count": 8,
   "id": "6758bd26",
   "metadata": {
    "pycharm": {
     "name": "#%%\n"
    }
   },
   "outputs": [],
   "source": [
    "data.to_json('Data/clean-data-v1/prime/phase2/clean_data_prime-8-11-22.json')"
   ]
  },
  {
   "cell_type": "code",
   "execution_count": null,
   "id": "c93174d0",
   "metadata": {
    "pycharm": {
     "name": "#%%\n"
    }
   },
   "outputs": [],
   "source": []
  }
 ],
 "metadata": {
  "kernelspec": {
   "display_name": "Python 3 (ipykernel)",
   "language": "python",
   "name": "python3"
  },
  "language_info": {
   "codemirror_mode": {
    "name": "ipython",
    "version": 3
   },
   "file_extension": ".py",
   "mimetype": "text/x-python",
   "name": "python",
   "nbconvert_exporter": "python",
   "pygments_lexer": "ipython3",
   "version": "3.9.7"
  }
 },
 "nbformat": 4,
 "nbformat_minor": 5
}