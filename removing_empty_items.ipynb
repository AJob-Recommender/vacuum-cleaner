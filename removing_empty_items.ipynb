{
 "cells": [
  {
   "cell_type": "markdown",
   "id": "57cd05ff",
   "metadata": {
    "pycharm": {
     "name": "#%% md\n"
    }
   },
   "source": [
    "# Data Preprocessing"
   ]
  },
  {
   "cell_type": "markdown",
   "id": "4591f77d",
   "metadata": {
    "pycharm": {
     "name": "#%% md\n"
    }
   },
   "source": [
    "## Importing the Libraries"
   ]
  },
  {
   "cell_type": "code",
   "execution_count": 2,
   "id": "a5501baf",
   "metadata": {
    "pycharm": {
     "name": "#%%\n"
    }
   },
   "outputs": [],
   "source": [
    "import numpy as np\n",
    "import pandas as pd"
   ]
  },
  {
   "cell_type": "markdown",
   "id": "132322c9",
   "metadata": {
    "pycharm": {
     "name": "#%% md\n"
    }
   },
   "source": [
    "## Importing the Data"
   ]
  },
  {
   "cell_type": "code",
   "execution_count": null,
   "id": "3df20bdb",
   "metadata": {
    "pycharm": {
     "name": "#%%\n",
     "is_executing": true
    }
   },
   "outputs": [],
   "source": [
    "data = pd.read_json('Data/clean-data-v1/data-phase2/data.json')\n",
    "data.head()"
   ]
  },
  {
   "cell_type": "markdown",
   "id": "3288aee9",
   "metadata": {
    "pycharm": {
     "name": "#%% md\n"
    }
   },
   "source": [
    "## Removing Empty Experiences"
   ]
  },
  {
   "cell_type": "code",
   "execution_count": 4,
   "id": "983abcb3",
   "metadata": {
    "pycharm": {
     "name": "#%%\n"
    }
   },
   "outputs": [],
   "source": [
    "experiences = np.array(data.iloc[:, 2:3].values)\n",
    "new_experiences = []\n",
    "for experience in experiences:\n",
    "    new_experience = []\n",
    "    for item in experience[0]:\n",
    "        if item['name'] != \"\" and item['place'] != \"\":\n",
    "            new_experience.append(item)\n",
    "    new_experiences.append(np.array(new_experience))"
   ]
  },
  {
   "cell_type": "markdown",
   "id": "efd58ca6",
   "metadata": {
    "pycharm": {
     "name": "#%% md\n"
    }
   },
   "source": [
    "## Removing Empty Educations"
   ]
  },
  {
   "cell_type": "code",
   "execution_count": 5,
   "id": "fd4417b0",
   "metadata": {
    "pycharm": {
     "name": "#%%\n"
    }
   },
   "outputs": [],
   "source": [
    "educations = np.array(data.iloc[:, 3:4].values)\n",
    "new_educations = []\n",
    "for education in educations:\n",
    "    new_education = []\n",
    "    for item in education[0]:\n",
    "        if item['university'] != \"\" and item['major'] != \"\":\n",
    "            new_education.append(item)\n",
    "    new_educations.append(np.array(new_education))"
   ]
  },
  {
   "cell_type": "markdown",
   "id": "6e49f8b7",
   "metadata": {
    "pycharm": {
     "name": "#%% md\n"
    }
   },
   "source": [
    "## Replacing the New Experiences and Educations"
   ]
  },
  {
   "cell_type": "code",
   "execution_count": 6,
   "id": "46b91623",
   "metadata": {
    "pycharm": {
     "name": "#%%\n"
    }
   },
   "outputs": [],
   "source": [
    "data[\"Experiences\"] = new_experiences\n",
    "data[\"Educations\"] = new_educations"
   ]
  },
  {
   "cell_type": "code",
   "execution_count": null,
   "id": "f8eb9c4a",
   "metadata": {
    "pycharm": {
     "name": "#%%\n",
     "is_executing": true
    }
   },
   "outputs": [],
   "source": [
    "data.head(10)"
   ]
  },
  {
   "cell_type": "markdown",
   "id": "8aafe2b8",
   "metadata": {
    "pycharm": {
     "name": "#%% md\n"
    }
   },
   "source": [
    "## Exporting the clean data to file"
   ]
  },
  {
   "cell_type": "code",
   "execution_count": 8,
   "id": "6758bd26",
   "metadata": {
    "pycharm": {
     "name": "#%%\n"
    }
   },
   "outputs": [],
   "source": [
    "data.to_json('Data/clean-data-v1/prime/phase2/clean_data_prime-8-11-22.json')"
   ]
  }
 ],
 "metadata": {
  "kernelspec": {
   "display_name": "Python 3 (ipykernel)",
   "language": "python",
   "name": "python3"
  },
  "language_info": {
   "codemirror_mode": {
    "name": "ipython",
    "version": 3
   },
   "file_extension": ".py",
   "mimetype": "text/x-python",
   "name": "python",
   "nbconvert_exporter": "python",
   "pygments_lexer": "ipython3",
   "version": "3.9.7"
  }
 },
 "nbformat": 4,
 "nbformat_minor": 5
}