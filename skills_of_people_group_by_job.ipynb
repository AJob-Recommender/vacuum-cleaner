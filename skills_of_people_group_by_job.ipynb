{
 "cells": [
  {
   "cell_type": "code",
   "execution_count": 1,
   "metadata": {
    "collapsed": true,
    "pycharm": {
     "name": "#%%\n"
    }
   },
   "outputs": [],
   "source": [
    "import pandas as pd\n",
    "import numpy as np\n",
    "import io"
   ]
  },
  {
   "cell_type": "markdown",
   "source": [
    "## Importing the dataset"
   ],
   "metadata": {
    "collapsed": false,
    "pycharm": {
     "name": "#%% md\n"
    }
   }
  },
  {
   "cell_type": "code",
   "execution_count": 2,
   "outputs": [],
   "source": [
    "data = pd.read_json('Data/new-educations/03-8-11-22/new_educations-7-8-22_3.json')"
   ],
   "metadata": {
    "collapsed": false,
    "pycharm": {
     "name": "#%%\n"
    }
   }
  },
  {
   "cell_type": "code",
   "execution_count": 3,
   "outputs": [],
   "source": [
    "experiences = data.Experiences\n",
    "skills = data.Skills"
   ],
   "metadata": {
    "collapsed": false,
    "pycharm": {
     "name": "#%%\n"
    }
   }
  },
  {
   "cell_type": "markdown",
   "source": [
    "## JOBS"
   ],
   "metadata": {
    "collapsed": false,
    "pycharm": {
     "name": "#%% md\n"
    }
   }
  },
  {
   "cell_type": "code",
   "execution_count": 6,
   "outputs": [],
   "source": [
    "JOBS = [\n",
    "    \"software engineer\", #done\n",
    "    \"software test engineer\", #done\n",
    "    \"cloud engineer\", #done\n",
    "    \"devops engineer\", #done\n",
    "    \"sre\", #done\n",
    "    \"full stack developer\", #done\n",
    "    \"backend developer\", #done\n",
    "    \"frontend developer\", #done\n",
    "\n",
    "    \"data scientist\", #done\n",
    "    \"machine learning engineer\", #done\n",
    "    \"data engineer\", #done\n",
    "\n",
    "    \"ios developer\", #done\n",
    "    \"android developer\", #done\n",
    "\n",
    "    \"ui-ux designer\", #done\n",
    "\n",
    "    \"scrum master\", #done\n",
    "\n",
    "    \"database administrator\", #done\n",
    "\n",
    "    \"network security engineer\", #done\n",
    "    \"wireless network engineer\", #done\n",
    "    \"network architect\", #done\n",
    "    \"penetration tester\", #done\n",
    "\n",
    "    \"cto\", #done\n",
    "\n",
    "    \"game developer\", #done\n",
    "\n",
    "    \"hardware engineer\", #done\n",
    "\n",
    "    \"others\", #done\n",
    "]"
   ],
   "metadata": {
    "collapsed": false,
    "pycharm": {
     "name": "#%%\n"
    }
   }
  },
  {
   "cell_type": "code",
   "execution_count": 7,
   "outputs": [],
   "source": [
    "for j in range(len(JOBS)):\n",
    "    indexes = []\n",
    "    for exp in range(len(experiences)):\n",
    "        for item in experiences[exp]:\n",
    "            if item['name'] == JOBS[j]:\n",
    "                indexes.append(exp)\n",
    "\n",
    "    indexes = list(set(indexes))\n",
    "    indexes.sort()\n",
    "\n",
    "    skills_lists = []\n",
    "    for i in indexes:\n",
    "        skills_lists.extend(skills[i])\n",
    "\n",
    "    skills_lists = list(set(skills_lists))\n",
    "\n",
    "    with io.open(f\"Data/Skills2/{JOBS[j]}.txt\", \"w\", encoding=\"utf-8\") as f:\n",
    "        for i in range(len(skills_lists)):\n",
    "            f.write(f\"{i}:\" + skills_lists[i] + \"\\n\")\n",
    "        f.close()"
   ],
   "metadata": {
    "collapsed": false,
    "pycharm": {
     "name": "#%%\n"
    }
   }
  },
  {
   "cell_type": "markdown",
   "source": [
    "## UI-Ux"
   ],
   "metadata": {
    "collapsed": false,
    "pycharm": {
     "name": "#%% md\n"
    }
   }
  },
  {
   "cell_type": "code",
   "execution_count": 49,
   "outputs": [],
   "source": [
    "indexes = []\n",
    "for exp in range(len(experiences)):\n",
    "    for item in experiences[exp]:\n",
    "        if item['name'] == \"ui/ux designer\":\n",
    "            indexes.append(exp)\n",
    "\n",
    "indexes = list(set(indexes))\n",
    "indexes.sort()\n",
    "\n",
    "skills_lists = []\n",
    "for i in indexes:\n",
    "    skills_lists.extend(skills[i])\n",
    "\n",
    "skills_lists = list(set(skills_lists))\n",
    "\n",
    "with io.open(f\"Data/Skills/ui-ux.txt\", \"w\", encoding=\"utf-8\") as f:\n",
    "    for i in range(len(skills_lists)):\n",
    "        f.write(f\"{i}:\" + skills_lists[i] + \"\\n\")\n",
    "    f.close()"
   ],
   "metadata": {
    "collapsed": false,
    "pycharm": {
     "name": "#%%\n"
    }
   }
  },
  {
   "cell_type": "code",
   "execution_count": null,
   "outputs": [],
   "source": [],
   "metadata": {
    "collapsed": false,
    "pycharm": {
     "name": "#%%\n"
    }
   }
  }
 ],
 "metadata": {
  "kernelspec": {
   "display_name": "Python 3",
   "language": "python",
   "name": "python3"
  },
  "language_info": {
   "codemirror_mode": {
    "name": "ipython",
    "version": 2
   },
   "file_extension": ".py",
   "mimetype": "text/x-python",
   "name": "python",
   "nbconvert_exporter": "python",
   "pygments_lexer": "ipython2",
   "version": "2.7.6"
  }
 },
 "nbformat": 4,
 "nbformat_minor": 0
}