{
 "cells": [
  {
   "cell_type": "markdown",
   "id": "7f65340b",
   "metadata": {},
   "source": [
    "# Job Categorization"
   ]
  },
  {
   "cell_type": "markdown",
   "id": "1e306803",
   "metadata": {},
   "source": [
    "## Importing the Libraries"
   ]
  },
  {
   "cell_type": "code",
   "execution_count": 1,
   "id": "59cc0ab9",
   "metadata": {},
   "outputs": [],
   "source": [
    "import numpy as np\n",
    "import pandas as pd"
   ]
  },
  {
   "cell_type": "markdown",
   "id": "24067067",
   "metadata": {},
   "source": [
    "## Importing the Data"
   ]
  },
  {
   "cell_type": "code",
   "execution_count": 2,
   "id": "388ebcf4",
   "metadata": {},
   "outputs": [
    {
     "data": {
      "text/html": [
       "<div>\n",
       "<style scoped>\n",
       "    .dataframe tbody tr th:only-of-type {\n",
       "        vertical-align: middle;\n",
       "    }\n",
       "\n",
       "    .dataframe tbody tr th {\n",
       "        vertical-align: top;\n",
       "    }\n",
       "\n",
       "    .dataframe thead th {\n",
       "        text-align: right;\n",
       "    }\n",
       "</style>\n",
       "<table border=\"1\" class=\"dataframe\">\n",
       "  <thead>\n",
       "    <tr style=\"text-align: right;\">\n",
       "      <th></th>\n",
       "      <th>Profile URL</th>\n",
       "      <th>Full Name</th>\n",
       "      <th>Experiences</th>\n",
       "      <th>Educations</th>\n",
       "      <th>Skills</th>\n",
       "    </tr>\n",
       "  </thead>\n",
       "  <tbody>\n",
       "    <tr>\n",
       "      <th>0</th>\n",
       "      <td>https://www.linkedin.com/in/evelio-sosa/</td>\n",
       "      <td>Evelio Sosa</td>\n",
       "      <td>[]</td>\n",
       "      <td>[{'university': 'Texas A&amp;amp;M University', 'm...</td>\n",
       "      <td>[HTML5, Cascading Style Sheets (CSS), Python (...</td>\n",
       "    </tr>\n",
       "    <tr>\n",
       "      <th>1</th>\n",
       "      <td>https://www.linkedin.com/in/jyothi-vutukuri-a9...</td>\n",
       "      <td>Jyothi Vutukuri</td>\n",
       "      <td>[{'name': 'Cloud and DevOps Engineer', 'place'...</td>\n",
       "      <td>[{'university': 'Jawaharlal Nehru Technologica...</td>\n",
       "      <td>[Jenkins, Ansible, Git, AWS, Linux, Maven, She...</td>\n",
       "    </tr>\n",
       "    <tr>\n",
       "      <th>2</th>\n",
       "      <td>https://www.linkedin.com/in/swarnava-basu/</td>\n",
       "      <td>Swarnava Basu</td>\n",
       "      <td>[{'name': 'DevOps Engineer', 'place': 'Codelog...</td>\n",
       "      <td>[{'university': 'Meghnad Saha Institute Of Tec...</td>\n",
       "      <td>[Microsoft Azure, Amazon Web Services (AWS), G...</td>\n",
       "    </tr>\n",
       "    <tr>\n",
       "      <th>3</th>\n",
       "      <td>https://www.linkedin.com/in/adhiradeogade/</td>\n",
       "      <td>Adhira Deogade</td>\n",
       "      <td>[{'name': 'DevOps Engineer', 'place': 'apple ·...</td>\n",
       "      <td>[]</td>\n",
       "      <td>[Machine Learning, Python (Programming Languag...</td>\n",
       "    </tr>\n",
       "    <tr>\n",
       "      <th>4</th>\n",
       "      <td>https://www.linkedin.com/in/vikeshyadav/</td>\n",
       "      <td>Vikesh .</td>\n",
       "      <td>[{'name': 'DevOps Engineer | SRE', 'place': 'G...</td>\n",
       "      <td>[{'university': 'Maharshi Dayanand University'...</td>\n",
       "      <td>[Amazon Web Services (AWS), DevOps, Linux Syst...</td>\n",
       "    </tr>\n",
       "  </tbody>\n",
       "</table>\n",
       "</div>"
      ],
      "text/plain": [
       "                                         Profile URL        Full Name  \\\n",
       "0           https://www.linkedin.com/in/evelio-sosa/      Evelio Sosa   \n",
       "1  https://www.linkedin.com/in/jyothi-vutukuri-a9...  Jyothi Vutukuri   \n",
       "2         https://www.linkedin.com/in/swarnava-basu/    Swarnava Basu   \n",
       "3         https://www.linkedin.com/in/adhiradeogade/   Adhira Deogade   \n",
       "4           https://www.linkedin.com/in/vikeshyadav/         Vikesh .   \n",
       "\n",
       "                                         Experiences  \\\n",
       "0                                                 []   \n",
       "1  [{'name': 'Cloud and DevOps Engineer', 'place'...   \n",
       "2  [{'name': 'DevOps Engineer', 'place': 'Codelog...   \n",
       "3  [{'name': 'DevOps Engineer', 'place': 'apple ·...   \n",
       "4  [{'name': 'DevOps Engineer | SRE', 'place': 'G...   \n",
       "\n",
       "                                          Educations  \\\n",
       "0  [{'university': 'Texas A&amp;M University', 'm...   \n",
       "1  [{'university': 'Jawaharlal Nehru Technologica...   \n",
       "2  [{'university': 'Meghnad Saha Institute Of Tec...   \n",
       "3                                                 []   \n",
       "4  [{'university': 'Maharshi Dayanand University'...   \n",
       "\n",
       "                                              Skills  \n",
       "0  [HTML5, Cascading Style Sheets (CSS), Python (...  \n",
       "1  [Jenkins, Ansible, Git, AWS, Linux, Maven, She...  \n",
       "2  [Microsoft Azure, Amazon Web Services (AWS), G...  \n",
       "3  [Machine Learning, Python (Programming Languag...  \n",
       "4  [Amazon Web Services (AWS), DevOps, Linux Syst...  "
      ]
     },
     "execution_count": 2,
     "metadata": {},
     "output_type": "execute_result"
    }
   ],
   "source": [
    "data = pd.read_json('Data/clean_data_prime-7-6-22.json')\n",
    "data.head()"
   ]
  },
  {
   "cell_type": "markdown",
   "id": "c468aea0",
   "metadata": {},
   "source": [
    "## Extracting the Experiences"
   ]
  },
  {
   "cell_type": "code",
   "execution_count": 3,
   "id": "fe23a417",
   "metadata": {},
   "outputs": [
    {
     "name": "stdout",
     "output_type": "stream",
     "text": [
      "[]\n"
     ]
    },
    {
     "data": {
      "text/plain": [
       "list"
      ]
     },
     "execution_count": 3,
     "metadata": {},
     "output_type": "execute_result"
    }
   ],
   "source": [
    "experiences = data.iloc[:, 2:3].values\n",
    "print(experiences[0][0])\n",
    "type(experiences[0][0])"
   ]
  },
  {
   "cell_type": "code",
   "execution_count": 4,
   "id": "4be13767",
   "metadata": {},
   "outputs": [],
   "source": [
    "JOBS = [\n",
    "    \"software engineer\", #done\n",
    "    \"software test engineer\", #done\n",
    "    \"cloud engineer\", #done\n",
    "    \"devops engineer\", #done\n",
    "    \"sre\", #done\n",
    "    \"full stack developer\", #done\n",
    "    \"backend developer\", #done\n",
    "    \"frontend developer\", #done\n",
    "    \n",
    "    \"data scientist\", #done\n",
    "    \"machine learning engineer\", #done\n",
    "    \"data engineer\", #done\n",
    "    \n",
    "    \"ios developer\", #done\n",
    "    \"android developer\", #done\n",
    "    \n",
    "    \"ui/ux designer\", #done\n",
    "    \n",
    "    \"scrum master\", #done\n",
    "    \n",
    "    \"database administrator\", #done\n",
    "    \n",
    "    \"network security engineer\", #done\n",
    "    \"wireless network engineer\", #done\n",
    "    \"network architect\", #done\n",
    "    \"penetration tester\", #done\n",
    "    \n",
    "    \"cto\", #done\n",
    "    \n",
    "    \"game developer\", #done\n",
    "        \n",
    "    \"hardware engineer\", #done\n",
    "    \n",
    "    \"others\", #done\n",
    "]"
   ]
  },
  {
   "cell_type": "code",
   "execution_count": 5,
   "id": "f9d92cce",
   "metadata": {},
   "outputs": [],
   "source": [
    "new_experiences = []\n",
    "# print(experiences)\n",
    "for experience in experiences:\n",
    "    new_experience = []\n",
    "    for item in experience[0]:\n",
    "        new_item = {\"name\": \"\", \"place\": item[\"place\"]}\n",
    "        if \"software\" in item['name'].lower().split() and \"test\" not in item['name'].lower().split() and \"embedded\" not in item['name'].lower().split() and not \"qa\" in item['name'].lower().split() and not \"assurance\" in item['name'].lower().split():\n",
    "            new_item[\"name\"] = \"software engineer\"\n",
    "        elif (\"software\" in item['name'].lower().split() and \"engineer\" in item['name'].lower().split() and 'test' in item['name'].lower().split()) or \"qa\" in item['name'].lower().split() or 'q/a' in item['name'].lower().split() or 'assurance' in item['name'].lower().split():\n",
    "            new_item[\"name\"] = \"software test engineer\"\n",
    "        elif \"cloud\" in item['name'].lower().split() and \"devops\" not in item['name'].lower().split():\n",
    "            new_item[\"name\"] = 'cloud engineer'\n",
    "        elif \"devops\" in item['name'].lower().split():\n",
    "            new_item[\"name\"] = \"devops engineer\"\n",
    "        elif \"sre\" in item['name'].lower().split() or (\"site\" in item['name'].lower().split() and \"reliability\"):\n",
    "            new_item[\"name\"] = \"sre\"\n",
    "        elif \"full\" in item['name'].lower().split() and \"stack\" in item['name'].lower().split():\n",
    "            new_item[\"name\"]  = \"full stack developer\"\n",
    "        elif \"backend\" in item['name'].lower().split() or \"back-end\" in item['name'].lower().split():\n",
    "            new_item[\"name\"] = \"backend developer\"\n",
    "        elif \"frontend\" in item['name'].lower().split() or \"front-end\" in item['name'].lower().split() or \"front\" in item['name'].lower().split():\n",
    "            new_item[\"name\"] = \"frontend developer\"\n",
    "        elif \"data\" in item['name'].lower().split() and (\"science\" in item['name'].lower().split() or \"scientist\" in item['name'].lower().split()):\n",
    "            new_item[\"name\"] = \"data scientist\"\n",
    "        elif \"machine\" in item['name'].lower().split() or \"ml\" in item['name'].lower().split():\n",
    "            new_item[\"name\"] = \"machine learning engineer\"\n",
    "        elif \"data\" in item['name'].lower().split() and \"engineer\" in item['name'].lower().split():\n",
    "            new_item[\"name\"] = \"data engineer\"\n",
    "        elif \"ios\" in item['name'].lower().split():\n",
    "            new_item[\"name\"] = \"ios developer\"\n",
    "        elif \"android\" in item['name'].lower().split():\n",
    "            new_item[\"name\"] = \"android developer\"\n",
    "        elif \"user\" in item['name'].lower().split() or \"ui\" in item['name'].lower().split() or \"ux\" in item['name'].lower().split() or \"ui/ux\" in item['name'].lower().split():\n",
    "            new_item[\"name\"] = \"ui/ux designer\"\n",
    "        elif \"scrum\" in item['name'].lower().split():\n",
    "            new_item[\"name\"] = \"scrum master\"\n",
    "        elif \"database\" in item['name'].lower().split() or \"dba\" in item['name'].lower().split() or \"db\" in item['name'].lower().split():\n",
    "            new_item[\"name\"] = \"database administrator\"\n",
    "        elif \"network\" in item['name'].lower().split() and \"security\" in item['name'].lower().split():\n",
    "            new_item[\"name\"] = \"network security engineer\"\n",
    "        elif \"network\" in item['name'].lower().split() and \"wireless\" in item['name'].lower().split():\n",
    "            new_item[\"name\"] = \"wireless network engineer\"\n",
    "        elif \"network\" in item['name'].lower().split() and \"architect\" in item['name'].lower().split():\n",
    "            new_item[\"name\"] = \"network architect\"\n",
    "        elif \"penetration\" in item['name'].lower().split():\n",
    "            new_item[\"name\"] = \"penetration tester\"\n",
    "        elif \"cto\" in item['name'].lower().split() or \"chief\" in item['name'].lower().split():\n",
    "            new_item[\"name\"] = \"cto\"\n",
    "        elif \"game\" in item['name'].lower().split() or \"unity\" in item['name'].lower().split():\n",
    "            new_item[\"name\"] = \"game developer\"\n",
    "        elif \"hardware\" in item['name'].lower().split() or \"hw\" in item['name'].lower().split() or \"embedded\" in item['name'].lower().split():\n",
    "            new_item[\"name\"] = \"hardware engineer\"\n",
    "        else:\n",
    "            new_item[\"name\"] = \"others\"\n",
    "\n",
    "        new_experience.append(new_item)\n",
    "    new_experiences.append(np.array(new_experience))"
   ]
  },
  {
   "cell_type": "code",
   "execution_count": 6,
   "id": "d934fb1a",
   "metadata": {},
   "outputs": [],
   "source": [
    "data[\"Experiences\"] = new_experiences"
   ]
  },
  {
   "cell_type": "code",
   "execution_count": 7,
   "id": "4f778395",
   "metadata": {
    "pycharm": {
     "name": "#%%\n"
    }
   },
   "outputs": [],
   "source": [
    "data.to_json(\"Data/new_jobs-7-7-22.json\")\n",
    "data.to_csv(\"Data/new_jobs-7-7-22.csv\")"
   ]
  }
 ],
 "metadata": {
  "kernelspec": {
   "display_name": "Python 3 (ipykernel)",
   "language": "python",
   "name": "python3"
  },
  "language_info": {
   "codemirror_mode": {
    "name": "ipython",
    "version": 3
   },
   "file_extension": ".py",
   "mimetype": "text/x-python",
   "name": "python",
   "nbconvert_exporter": "python",
   "pygments_lexer": "ipython3",
   "version": "3.9.7"
  }
 },
 "nbformat": 4,
 "nbformat_minor": 5
}