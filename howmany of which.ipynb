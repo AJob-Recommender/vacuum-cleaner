{
 "cells": [
  {
   "cell_type": "code",
   "execution_count": 36,
   "metadata": {
    "collapsed": true
   },
   "outputs": [],
   "source": [
    "import pandas as pd\n",
    "import numpy as np\n",
    "import io"
   ]
  },
  {
   "cell_type": "markdown",
   "source": [
    "## Importing the dataset"
   ],
   "metadata": {
    "collapsed": false,
    "pycharm": {
     "name": "#%% md\n"
    }
   }
  },
  {
   "cell_type": "code",
   "execution_count": 2,
   "outputs": [],
   "source": [
    "data = pd.read_json('Data/new-educations/02-7-8-22/new_educations-7-8-22_3.json')"
   ],
   "metadata": {
    "collapsed": false,
    "pycharm": {
     "name": "#%%\n"
    }
   }
  },
  {
   "cell_type": "code",
   "execution_count": 19,
   "outputs": [],
   "source": [
    "experiences = data.Experiences\n",
    "skills = data.Skills"
   ],
   "metadata": {
    "collapsed": false,
    "pycharm": {
     "name": "#%%\n"
    }
   }
  },
  {
   "cell_type": "markdown",
   "source": [
    "## Software Engineer Skills"
   ],
   "metadata": {
    "collapsed": false,
    "pycharm": {
     "name": "#%% md\n"
    }
   }
  },
  {
   "cell_type": "code",
   "execution_count": 41,
   "outputs": [],
   "source": [
    "indexes = []\n",
    "for exp in range(len(experiences)):\n",
    "    for item in experiences[exp]:\n",
    "        if item['name'] == \"software engineer\":\n",
    "            indexes.append(exp)\n",
    "\n",
    "indexes = list(set(indexes))\n",
    "indexes.sort()\n",
    "\n",
    "skills_lists = []\n",
    "for i in indexes:\n",
    "    skills_lists.extend(skills[i])\n",
    "\n",
    "skills_lists = list(set(skills_lists))\n",
    "\n",
    "with io.open(\"Data/Skills/software_engineering.txt\", \"w\", encoding=\"utf-8\") as f:\n",
    "    for i in range(len(skills_lists)):\n",
    "        f.write(f\"{i}:\" + skills_lists[i] + \"\\n\")\n",
    "    f.close()"
   ],
   "metadata": {
    "collapsed": false,
    "pycharm": {
     "name": "#%%\n"
    }
   }
  },
  {
   "cell_type": "code",
   "execution_count": null,
   "outputs": [],
   "source": [],
   "metadata": {
    "collapsed": false,
    "pycharm": {
     "name": "#%%\n"
    }
   }
  }
 ],
 "metadata": {
  "kernelspec": {
   "display_name": "Python 3",
   "language": "python",
   "name": "python3"
  },
  "language_info": {
   "codemirror_mode": {
    "name": "ipython",
    "version": 2
   },
   "file_extension": ".py",
   "mimetype": "text/x-python",
   "name": "python",
   "nbconvert_exporter": "python",
   "pygments_lexer": "ipython2",
   "version": "2.7.6"
  }
 },
 "nbformat": 4,
 "nbformat_minor": 0
}