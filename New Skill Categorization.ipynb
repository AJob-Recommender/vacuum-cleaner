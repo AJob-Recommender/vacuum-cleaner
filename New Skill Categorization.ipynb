{
 "cells": [
  {
   "cell_type": "markdown",
   "source": [
    "## Importing Libraries"
   ],
   "metadata": {
    "collapsed": false,
    "pycharm": {
     "name": "#%% md\n"
    }
   }
  },
  {
   "cell_type": "code",
   "execution_count": 2,
   "outputs": [],
   "source": [
    "import numpy as np\n",
    "import pandas as pd"
   ],
   "metadata": {
    "collapsed": false,
    "pycharm": {
     "name": "#%%\n"
    }
   }
  },
  {
   "cell_type": "markdown",
   "source": [
    "## Importing Dataset"
   ],
   "metadata": {
    "collapsed": false,
    "pycharm": {
     "name": "#%% md\n"
    }
   }
  },
  {
   "cell_type": "code",
   "execution_count": 6,
   "outputs": [
    {
     "data": {
      "text/plain": "                                         Profile URL        Full Name  \\\n0           https://www.linkedin.com/in/evelio-sosa/      Evelio Sosa   \n1  https://www.linkedin.com/in/jyothi-vutukuri-a9...  Jyothi Vutukuri   \n2         https://www.linkedin.com/in/swarnava-basu/    Swarnava Basu   \n3         https://www.linkedin.com/in/adhiradeogade/   Adhira Deogade   \n4           https://www.linkedin.com/in/vikeshyadav/         Vikesh .   \n\n                                         Experiences  \\\n0                                                 []   \n1  [{'name': 'devops engineer', 'place': 'IBM · F...   \n2  [{'name': 'devops engineer', 'place': 'Codelog...   \n3  [{'name': 'devops engineer', 'place': 'apple ·...   \n4  [{'name': 'devops engineer', 'place': 'Google ...   \n\n                                          Educations  \\\n0  [{'university': 'Texas A&amp;M University', 'm...   \n1  [{'university': 'Jawaharlal Nehru Technologica...   \n2  [{'university': 'Meghnad Saha Institute Of Tec...   \n3                                                 []   \n4  [{'university': 'Maharshi Dayanand University'...   \n\n                                              Skills  \n0  [HTML5, Cascading Style Sheets (CSS), Python (...  \n1  [Jenkins, Ansible, Git, AWS, Linux, Maven, She...  \n2  [Microsoft Azure, Amazon Web Services (AWS), G...  \n3  [Machine Learning, Python (Programming Languag...  \n4  [Amazon Web Services (AWS), DevOps, Linux Syst...  ",
      "text/html": "<div>\n<style scoped>\n    .dataframe tbody tr th:only-of-type {\n        vertical-align: middle;\n    }\n\n    .dataframe tbody tr th {\n        vertical-align: top;\n    }\n\n    .dataframe thead th {\n        text-align: right;\n    }\n</style>\n<table border=\"1\" class=\"dataframe\">\n  <thead>\n    <tr style=\"text-align: right;\">\n      <th></th>\n      <th>Profile URL</th>\n      <th>Full Name</th>\n      <th>Experiences</th>\n      <th>Educations</th>\n      <th>Skills</th>\n    </tr>\n  </thead>\n  <tbody>\n    <tr>\n      <th>0</th>\n      <td>https://www.linkedin.com/in/evelio-sosa/</td>\n      <td>Evelio Sosa</td>\n      <td>[]</td>\n      <td>[{'university': 'Texas A&amp;amp;M University', 'm...</td>\n      <td>[HTML5, Cascading Style Sheets (CSS), Python (...</td>\n    </tr>\n    <tr>\n      <th>1</th>\n      <td>https://www.linkedin.com/in/jyothi-vutukuri-a9...</td>\n      <td>Jyothi Vutukuri</td>\n      <td>[{'name': 'devops engineer', 'place': 'IBM · F...</td>\n      <td>[{'university': 'Jawaharlal Nehru Technologica...</td>\n      <td>[Jenkins, Ansible, Git, AWS, Linux, Maven, She...</td>\n    </tr>\n    <tr>\n      <th>2</th>\n      <td>https://www.linkedin.com/in/swarnava-basu/</td>\n      <td>Swarnava Basu</td>\n      <td>[{'name': 'devops engineer', 'place': 'Codelog...</td>\n      <td>[{'university': 'Meghnad Saha Institute Of Tec...</td>\n      <td>[Microsoft Azure, Amazon Web Services (AWS), G...</td>\n    </tr>\n    <tr>\n      <th>3</th>\n      <td>https://www.linkedin.com/in/adhiradeogade/</td>\n      <td>Adhira Deogade</td>\n      <td>[{'name': 'devops engineer', 'place': 'apple ·...</td>\n      <td>[]</td>\n      <td>[Machine Learning, Python (Programming Languag...</td>\n    </tr>\n    <tr>\n      <th>4</th>\n      <td>https://www.linkedin.com/in/vikeshyadav/</td>\n      <td>Vikesh .</td>\n      <td>[{'name': 'devops engineer', 'place': 'Google ...</td>\n      <td>[{'university': 'Maharshi Dayanand University'...</td>\n      <td>[Amazon Web Services (AWS), DevOps, Linux Syst...</td>\n    </tr>\n  </tbody>\n</table>\n</div>"
     },
     "execution_count": 6,
     "metadata": {},
     "output_type": "execute_result"
    }
   ],
   "source": [
    "data = pd.read_json('Data/new-educations/02-7-8-22/new_educations-7-8-22_3.json')\n",
    "data.head()"
   ],
   "metadata": {
    "collapsed": false,
    "pycharm": {
     "name": "#%%\n"
    }
   }
  },
  {
   "cell_type": "code",
   "execution_count": null,
   "outputs": [],
   "source": [
    "\"\"\"\n",
    "# mobile_developer = android_developer + ios_developer\n",
    "# software_engineer = software_engineer + backend_developer\n",
    "# devops engineer = devops_engineer + cloud_engineer\n",
    "# network_engineer = network_architect + network_security_engineer + penetration_teseter + wireless_network_engineer\n",
    "\"\"\"\n",
    "JOBS_SKILLS = {\n",
    "    'mobile_developer': [\n",
    "        \"mobile applications\",\n",
    "        \"java\",\n",
    "        \"design patterns\",\n",
    "        \"software engineering\",\n",
    "        \"git\",\n",
    "        \"android data binding\",\n",
    "        \"oop\",\n",
    "        \"kotlin\",\n",
    "        \"xml\",\n",
    "        \"android jetpack\",\n",
    "        \"swift\",\n",
    "        \"ios\",\n",
    "        \"graphic design\",\n",
    "    ],\n",
    "    'data scientist': [\n",
    "        \"data migration\",\n",
    "        \"regression testing\",\n",
    "        \"predictive modeling\",\n",
    "        \"r\",\n",
    "        \"python\",\n",
    "        \"image processing\",\n",
    "        \"mongodb\",\n",
    "        \"git\",\n",
    "        \"data science\",\n",
    "        \"AI\",\n",
    "        \"tensorflow\",\n",
    "        \"pytorch\",\n",
    "        \"data integration\",\n",
    "        \"big data\",\n",
    "        \"NLP\",\n",
    "        \"data modeling\",\n",
    "        \"pytorch\",\n",
    "        \"image processing\",\n",
    "        \"computer vision\",\n",
    "        \"data\",\n",
    "        \"deep learning\",\n",
    "        \"keras\",\n",
    "    ],\n",
    "    'network engineer': [\n",
    "        \"routing protocols\",\n",
    "        \"cisco\",\n",
    "        \"wireless\",\n",
    "        \"vpn\",\n",
    "        \"cybersecurity\",\n",
    "        \"switching\",\n",
    "        \"dhcp server\",\n",
    "        \"vmware\",\n",
    "        \"network security\",\n",
    "        \"lan-wan\"\n",
    "        \"hacking\",\n",
    "        \"cybersecurity\",\n",
    "        \"penetration test\",\n",
    "        \"network administration\",\n",
    "        \"linux\",\n",
    "        \"network security\",\n",
    "    ],\n",
    "    'data engineer': [\n",
    "        \"database design\",\n",
    "        \"python\",\n",
    "        \"git\",\n",
    "        \"nosql\",\n",
    "        \"mysql\",\n",
    "        \"postgresql\",\n",
    "        \"mongodb\",\n",
    "        \"apache kafka\",\n",
    "        \"graphql\",\n",
    "        \"spark\",\n",
    "        \"sqlite\",\n",
    "        \"r\",\n",
    "        \"business analysis\",\n",
    "        \"data mining\",\n",
    "    ],\n",
    "    'software engineer': [\n",
    "        \"java\",\n",
    "        \"golang\",\n",
    "        \"ASP .Net\",\n",
    "        \"python\",\n",
    "        \"django\",\n",
    "        \"algorithm\",\n",
    "        \"php\",\n",
    "        \"git\",\n",
    "        \"kubernetes\",\n",
    "        \"spring\",\n",
    "        \"docker\",\n",
    "        \"laravel\",\n",
    "        \"mongodb\",\n",
    "        \"mysql\",\n",
    "        \"javascript\",\n",
    "        \"design patterns\",\n",
    "        \"web development\",\n",
    "        \"Node js\",\n",
    "        \"database design\",\n",
    "        \"microservices\",\n",
    "        \"redis\",\n",
    "        \"elasticsearch\",\n",
    "        \"apache kafka\",\n",
    "        \"rabbitmq\",\n",
    "        \"grpc\",\n",
    "        \"elixir\",\n",
    "        \"unit testing\",\n",
    "        \"oop\",\n",
    "        \"data structure\",\n",
    "        \"ansible\",\n",
    "    ],\n",
    "    'frontend developer': [\n",
    "        \"HTML\",\n",
    "        \"CSS\",\n",
    "        \"javascript\",\n",
    "        \"typescript\",\n",
    "        \"git\",\n",
    "        \"react\",\n",
    "        \"vuejs\",\n",
    "        \"angular\",\n",
    "        \"redux\",\n",
    "        \"ui-ux\",\n",
    "        \"ajax\",\n",
    "        \"jquery\",\n",
    "        \"nextjs\",\n",
    "        \"less\",\n",
    "    ],\n",
    "    'ui-ux designer': [\n",
    "        \"ui-ux\",\n",
    "        \"illustrator\",\n",
    "        \"figma\",\n",
    "        \"adobe xd\",\n",
    "        \"photoshop\",\n",
    "    ],\n",
    "    \"hardware engineer\": [\n",
    "        \"FPGA\",\n",
    "        \"PCB design\",\n",
    "        \"VLSI\",\n",
    "        \"IOT\",\n",
    "        \"circuit design\",\n",
    "        \"embedded\",\n",
    "        \"microcontroller\",\n",
    "        \"signal processing\",\n",
    "        \"raspberry pi\",\n",
    "        \"verilog\",\n",
    "        \"stm32\",\n",
    "        \"ARM\",\n",
    "        \"xilinx\",\n",
    "        \"arduino\",\n",
    "        \"simulink\",\n",
    "        \"matlab\",\n",
    "        \"VHDL\",\n",
    "        \"proteus\",\n",
    "    ],\n",
    "    \"devops engineer\": [\n",
    "        \"openshift\",\n",
    "        \"apache\",\n",
    "        \"google cloud platform\",\n",
    "        \"infrastructure\",\n",
    "        \"git\",\n",
    "        \"vmware\",\n",
    "        \"elasticsearch\",\n",
    "        \"apache kafka\",\n",
    "        \"azure\",\n",
    "        \"kubernetes\",\n",
    "        \"docker\",\n",
    "        \"containerization\",\n",
    "        \"linux\",\n",
    "        \"aws\",\n",
    "        \"jenkins\",\n",
    "        \"prometheus\",\n",
    "        \"helm chart\",\n",
    "        \"CI-CD\",\n",
    "        \"devops\",\n",
    "        \"cloud endure\",\n",
    "        \"cloud migration\",\n",
    "        \"cloud backup\",\n",
    "        \"cloud computing\",\n",
    "    ],\n",
    "}"
   ],
   "metadata": {
    "collapsed": false,
    "pycharm": {
     "name": "#%%\n"
    }
   }
  }
 ],
 "metadata": {
  "kernelspec": {
   "display_name": "Python 3",
   "language": "python",
   "name": "python3"
  },
  "language_info": {
   "codemirror_mode": {
    "name": "ipython",
    "version": 2
   },
   "file_extension": ".py",
   "mimetype": "text/x-python",
   "name": "python",
   "nbconvert_exporter": "python",
   "pygments_lexer": "ipython2",
   "version": "2.7.6"
  }
 },
 "nbformat": 4,
 "nbformat_minor": 0
}