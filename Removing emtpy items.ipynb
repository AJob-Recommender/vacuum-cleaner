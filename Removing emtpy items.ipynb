{
 "cells": [
  {
   "cell_type": "markdown",
   "id": "57cd05ff",
   "metadata": {},
   "source": [
    "# Data Preprocessing"
   ]
  },
  {
   "cell_type": "markdown",
   "id": "4591f77d",
   "metadata": {},
   "source": [
    "## Importing the Libraries"
   ]
  },
  {
   "cell_type": "code",
   "execution_count": 2,
   "id": "a5501baf",
   "metadata": {},
   "outputs": [],
   "source": [
    "import numpy as np\n",
    "import pandas as pd\n",
    "import matplotlib.pyplot as plt"
   ]
  },
  {
   "cell_type": "markdown",
   "id": "132322c9",
   "metadata": {},
   "source": [
    "## Importing the Data"
   ]
  },
  {
   "cell_type": "code",
   "execution_count": 3,
   "id": "3df20bdb",
   "metadata": {},
   "outputs": [
    {
     "data": {
      "text/html": [
       "<div>\n",
       "<style scoped>\n",
       "    .dataframe tbody tr th:only-of-type {\n",
       "        vertical-align: middle;\n",
       "    }\n",
       "\n",
       "    .dataframe tbody tr th {\n",
       "        vertical-align: top;\n",
       "    }\n",
       "\n",
       "    .dataframe thead th {\n",
       "        text-align: right;\n",
       "    }\n",
       "</style>\n",
       "<table border=\"1\" class=\"dataframe\">\n",
       "  <thead>\n",
       "    <tr style=\"text-align: right;\">\n",
       "      <th></th>\n",
       "      <th>Profile URL</th>\n",
       "      <th>Full Name</th>\n",
       "      <th>Experiences</th>\n",
       "      <th>Educations</th>\n",
       "      <th>Skills</th>\n",
       "    </tr>\n",
       "  </thead>\n",
       "  <tbody>\n",
       "    <tr>\n",
       "      <th>0</th>\n",
       "      <td>https://www.linkedin.com/in/evelio-sosa/</td>\n",
       "      <td>Evelio Sosa</td>\n",
       "      <td>[{'name': '', 'place': ''}, {'name': '', 'plac...</td>\n",
       "      <td>[{'university': 'Texas A&amp;amp;M University', 'm...</td>\n",
       "      <td>[HTML5, Cascading Style Sheets (CSS), Python (...</td>\n",
       "    </tr>\n",
       "    <tr>\n",
       "      <th>1</th>\n",
       "      <td>https://www.linkedin.com/in/jyothi-vutukuri-a9...</td>\n",
       "      <td>Jyothi Vutukuri</td>\n",
       "      <td>[{'name': 'Cloud and DevOps Engineer', 'place'...</td>\n",
       "      <td>[{'university': 'Jawaharlal Nehru Technologica...</td>\n",
       "      <td>[Jenkins, Ansible, Git, AWS, Linux, Maven, She...</td>\n",
       "    </tr>\n",
       "    <tr>\n",
       "      <th>2</th>\n",
       "      <td>https://www.linkedin.com/in/swarnava-basu/</td>\n",
       "      <td>Swarnava Basu</td>\n",
       "      <td>[{'name': 'DevOps Engineer', 'place': 'Codelog...</td>\n",
       "      <td>[{'university': 'Meghnad Saha Institute Of Tec...</td>\n",
       "      <td>[Microsoft Azure, Amazon Web Services (AWS), G...</td>\n",
       "    </tr>\n",
       "    <tr>\n",
       "      <th>3</th>\n",
       "      <td>https://www.linkedin.com/in/adhiradeogade/</td>\n",
       "      <td>Adhira Deogade</td>\n",
       "      <td>[{'name': 'DevOps Engineer', 'place': 'apple ·...</td>\n",
       "      <td>[]</td>\n",
       "      <td>[Machine Learning, Python (Programming Languag...</td>\n",
       "    </tr>\n",
       "    <tr>\n",
       "      <th>4</th>\n",
       "      <td>https://www.linkedin.com/in/vikeshyadav/</td>\n",
       "      <td>Vikesh .</td>\n",
       "      <td>[{'name': 'DevOps Engineer | SRE', 'place': 'G...</td>\n",
       "      <td>[{'university': 'Maharshi Dayanand University'...</td>\n",
       "      <td>[Amazon Web Services (AWS), DevOps, Linux Syst...</td>\n",
       "    </tr>\n",
       "  </tbody>\n",
       "</table>\n",
       "</div>"
      ],
      "text/plain": [
       "                                         Profile URL        Full Name  \\\n",
       "0           https://www.linkedin.com/in/evelio-sosa/      Evelio Sosa   \n",
       "1  https://www.linkedin.com/in/jyothi-vutukuri-a9...  Jyothi Vutukuri   \n",
       "2         https://www.linkedin.com/in/swarnava-basu/    Swarnava Basu   \n",
       "3         https://www.linkedin.com/in/adhiradeogade/   Adhira Deogade   \n",
       "4           https://www.linkedin.com/in/vikeshyadav/         Vikesh .   \n",
       "\n",
       "                                         Experiences  \\\n",
       "0  [{'name': '', 'place': ''}, {'name': '', 'plac...   \n",
       "1  [{'name': 'Cloud and DevOps Engineer', 'place'...   \n",
       "2  [{'name': 'DevOps Engineer', 'place': 'Codelog...   \n",
       "3  [{'name': 'DevOps Engineer', 'place': 'apple ·...   \n",
       "4  [{'name': 'DevOps Engineer | SRE', 'place': 'G...   \n",
       "\n",
       "                                          Educations  \\\n",
       "0  [{'university': 'Texas A&amp;M University', 'm...   \n",
       "1  [{'university': 'Jawaharlal Nehru Technologica...   \n",
       "2  [{'university': 'Meghnad Saha Institute Of Tec...   \n",
       "3                                                 []   \n",
       "4  [{'university': 'Maharshi Dayanand University'...   \n",
       "\n",
       "                                              Skills  \n",
       "0  [HTML5, Cascading Style Sheets (CSS), Python (...  \n",
       "1  [Jenkins, Ansible, Git, AWS, Linux, Maven, She...  \n",
       "2  [Microsoft Azure, Amazon Web Services (AWS), G...  \n",
       "3  [Machine Learning, Python (Programming Languag...  \n",
       "4  [Amazon Web Services (AWS), DevOps, Linux Syst...  "
      ]
     },
     "execution_count": 3,
     "metadata": {},
     "output_type": "execute_result"
    }
   ],
   "source": [
    "data = pd.read_json('Data/Clean_Data.json')\n",
    "data.head()"
   ]
  },
  {
   "cell_type": "markdown",
   "id": "3288aee9",
   "metadata": {},
   "source": [
    "## Removing Empty Experiences"
   ]
  },
  {
   "cell_type": "code",
   "execution_count": 4,
   "id": "983abcb3",
   "metadata": {},
   "outputs": [],
   "source": [
    "experiences = np.array(data.iloc[:, 2:3].values)\n",
    "new_experiences = []\n",
    "for experience in experiences:\n",
    "    new_experience = []\n",
    "    for item in experience[0]:\n",
    "        if item['name'] != \"\" and item['place'] != \"\":\n",
    "            new_experience.append(item)\n",
    "    new_experiences.append(np.array(new_experience))"
   ]
  },
  {
   "cell_type": "markdown",
   "id": "efd58ca6",
   "metadata": {},
   "source": [
    "## Removing Empty Educations"
   ]
  },
  {
   "cell_type": "code",
   "execution_count": 5,
   "id": "fd4417b0",
   "metadata": {},
   "outputs": [],
   "source": [
    "educations = np.array(data.iloc[:, 3:4].values)\n",
    "new_educations = []\n",
    "for education in educations:\n",
    "    new_education = []\n",
    "    for item in education[0]:\n",
    "        if item['university'] != \"\" and item['major'] != \"\":\n",
    "            new_education.append(item)\n",
    "    new_educations.append(np.array(new_education))"
   ]
  },
  {
   "cell_type": "markdown",
   "id": "6e49f8b7",
   "metadata": {},
   "source": [
    "## Replacing the New Experiences and Educations"
   ]
  },
  {
   "cell_type": "code",
   "execution_count": 6,
   "id": "46b91623",
   "metadata": {},
   "outputs": [],
   "source": [
    "data[\"Experiences\"] = new_experiences\n",
    "data[\"Educations\"] = new_educations"
   ]
  },
  {
   "cell_type": "code",
   "execution_count": 7,
   "id": "f8eb9c4a",
   "metadata": {},
   "outputs": [
    {
     "data": {
      "text/html": [
       "<div>\n",
       "<style scoped>\n",
       "    .dataframe tbody tr th:only-of-type {\n",
       "        vertical-align: middle;\n",
       "    }\n",
       "\n",
       "    .dataframe tbody tr th {\n",
       "        vertical-align: top;\n",
       "    }\n",
       "\n",
       "    .dataframe thead th {\n",
       "        text-align: right;\n",
       "    }\n",
       "</style>\n",
       "<table border=\"1\" class=\"dataframe\">\n",
       "  <thead>\n",
       "    <tr style=\"text-align: right;\">\n",
       "      <th></th>\n",
       "      <th>Profile URL</th>\n",
       "      <th>Full Name</th>\n",
       "      <th>Experiences</th>\n",
       "      <th>Educations</th>\n",
       "      <th>Skills</th>\n",
       "    </tr>\n",
       "  </thead>\n",
       "  <tbody>\n",
       "    <tr>\n",
       "      <th>0</th>\n",
       "      <td>https://www.linkedin.com/in/evelio-sosa/</td>\n",
       "      <td>Evelio Sosa</td>\n",
       "      <td>[]</td>\n",
       "      <td>[{'university': 'Texas A&amp;amp;M University', 'm...</td>\n",
       "      <td>[HTML5, Cascading Style Sheets (CSS), Python (...</td>\n",
       "    </tr>\n",
       "    <tr>\n",
       "      <th>1</th>\n",
       "      <td>https://www.linkedin.com/in/jyothi-vutukuri-a9...</td>\n",
       "      <td>Jyothi Vutukuri</td>\n",
       "      <td>[{'name': 'Cloud and DevOps Engineer', 'place'...</td>\n",
       "      <td>[{'university': 'Jawaharlal Nehru Technologica...</td>\n",
       "      <td>[Jenkins, Ansible, Git, AWS, Linux, Maven, She...</td>\n",
       "    </tr>\n",
       "    <tr>\n",
       "      <th>2</th>\n",
       "      <td>https://www.linkedin.com/in/swarnava-basu/</td>\n",
       "      <td>Swarnava Basu</td>\n",
       "      <td>[{'name': 'DevOps Engineer', 'place': 'Codelog...</td>\n",
       "      <td>[{'university': 'Meghnad Saha Institute Of Tec...</td>\n",
       "      <td>[Microsoft Azure, Amazon Web Services (AWS), G...</td>\n",
       "    </tr>\n",
       "    <tr>\n",
       "      <th>3</th>\n",
       "      <td>https://www.linkedin.com/in/adhiradeogade/</td>\n",
       "      <td>Adhira Deogade</td>\n",
       "      <td>[{'name': 'DevOps Engineer', 'place': 'apple ·...</td>\n",
       "      <td>[]</td>\n",
       "      <td>[Machine Learning, Python (Programming Languag...</td>\n",
       "    </tr>\n",
       "    <tr>\n",
       "      <th>4</th>\n",
       "      <td>https://www.linkedin.com/in/vikeshyadav/</td>\n",
       "      <td>Vikesh .</td>\n",
       "      <td>[{'name': 'DevOps Engineer | SRE', 'place': 'G...</td>\n",
       "      <td>[{'university': 'Maharshi Dayanand University'...</td>\n",
       "      <td>[Amazon Web Services (AWS), DevOps, Linux Syst...</td>\n",
       "    </tr>\n",
       "    <tr>\n",
       "      <th>5</th>\n",
       "      <td>https://www.linkedin.com/in/krishnaghatti/</td>\n",
       "      <td>Sri Krishna G</td>\n",
       "      <td>[{'name': 'DevOps Engineer', 'place': 'Apple ·...</td>\n",
       "      <td>[{'university': 'GEC', 'major': 'Bachelor's de...</td>\n",
       "      <td>[Linux, Unix, DNS, Data Center, VMware, VMware...</td>\n",
       "    </tr>\n",
       "    <tr>\n",
       "      <th>6</th>\n",
       "      <td>https://www.linkedin.com/in/razvan-streuneanu-...</td>\n",
       "      <td>Razvan Streuneanu</td>\n",
       "      <td>[{'name': 'Cashier Assistant', 'place': 'Carre...</td>\n",
       "      <td>[{'university': 'Liceul Teoretic \"Emil Bota\" A...</td>\n",
       "      <td>[Computer Hardware, Internet Protocol Suite (T...</td>\n",
       "    </tr>\n",
       "    <tr>\n",
       "      <th>7</th>\n",
       "      <td>https://www.linkedin.com/in/priyamanghnani/</td>\n",
       "      <td>Priya Manghnani</td>\n",
       "      <td>[{'name': 'Cloud DevOps Engineer at Apple Pay'...</td>\n",
       "      <td>[{'university': 'University of Cincinnati Carl...</td>\n",
       "      <td>[DevOps, Docker, Linux, Amazon Web Services (A...</td>\n",
       "    </tr>\n",
       "    <tr>\n",
       "      <th>8</th>\n",
       "      <td>https://www.linkedin.com/in/loki3/</td>\n",
       "      <td>Lokendra Singh Panwar</td>\n",
       "      <td>[{'name': 'DevOps Engineer', 'place': 'Google ...</td>\n",
       "      <td>[{'university': 'SRM University', 'major': 'Ba...</td>\n",
       "      <td>[Linux, Kubernetes, Docker, Shell Scripting, S...</td>\n",
       "    </tr>\n",
       "    <tr>\n",
       "      <th>9</th>\n",
       "      <td>https://www.linkedin.com/in/analsurti/</td>\n",
       "      <td>Anal Surti</td>\n",
       "      <td>[{'name': 'DevOps Engineer', 'place': 'Apple ·...</td>\n",
       "      <td>[{'university': 'San Diego State University', ...</td>\n",
       "      <td>[Python, Git, Jenkins, Web Development, GitHub...</td>\n",
       "    </tr>\n",
       "  </tbody>\n",
       "</table>\n",
       "</div>"
      ],
      "text/plain": [
       "                                         Profile URL              Full Name  \\\n",
       "0           https://www.linkedin.com/in/evelio-sosa/            Evelio Sosa   \n",
       "1  https://www.linkedin.com/in/jyothi-vutukuri-a9...        Jyothi Vutukuri   \n",
       "2         https://www.linkedin.com/in/swarnava-basu/          Swarnava Basu   \n",
       "3         https://www.linkedin.com/in/adhiradeogade/         Adhira Deogade   \n",
       "4           https://www.linkedin.com/in/vikeshyadav/               Vikesh .   \n",
       "5         https://www.linkedin.com/in/krishnaghatti/          Sri Krishna G   \n",
       "6  https://www.linkedin.com/in/razvan-streuneanu-...      Razvan Streuneanu   \n",
       "7        https://www.linkedin.com/in/priyamanghnani/        Priya Manghnani   \n",
       "8                 https://www.linkedin.com/in/loki3/  Lokendra Singh Panwar   \n",
       "9             https://www.linkedin.com/in/analsurti/             Anal Surti   \n",
       "\n",
       "                                         Experiences  \\\n",
       "0                                                 []   \n",
       "1  [{'name': 'Cloud and DevOps Engineer', 'place'...   \n",
       "2  [{'name': 'DevOps Engineer', 'place': 'Codelog...   \n",
       "3  [{'name': 'DevOps Engineer', 'place': 'apple ·...   \n",
       "4  [{'name': 'DevOps Engineer | SRE', 'place': 'G...   \n",
       "5  [{'name': 'DevOps Engineer', 'place': 'Apple ·...   \n",
       "6  [{'name': 'Cashier Assistant', 'place': 'Carre...   \n",
       "7  [{'name': 'Cloud DevOps Engineer at Apple Pay'...   \n",
       "8  [{'name': 'DevOps Engineer', 'place': 'Google ...   \n",
       "9  [{'name': 'DevOps Engineer', 'place': 'Apple ·...   \n",
       "\n",
       "                                          Educations  \\\n",
       "0  [{'university': 'Texas A&amp;M University', 'm...   \n",
       "1  [{'university': 'Jawaharlal Nehru Technologica...   \n",
       "2  [{'university': 'Meghnad Saha Institute Of Tec...   \n",
       "3                                                 []   \n",
       "4  [{'university': 'Maharshi Dayanand University'...   \n",
       "5  [{'university': 'GEC', 'major': 'Bachelor's de...   \n",
       "6  [{'university': 'Liceul Teoretic \"Emil Bota\" A...   \n",
       "7  [{'university': 'University of Cincinnati Carl...   \n",
       "8  [{'university': 'SRM University', 'major': 'Ba...   \n",
       "9  [{'university': 'San Diego State University', ...   \n",
       "\n",
       "                                              Skills  \n",
       "0  [HTML5, Cascading Style Sheets (CSS), Python (...  \n",
       "1  [Jenkins, Ansible, Git, AWS, Linux, Maven, She...  \n",
       "2  [Microsoft Azure, Amazon Web Services (AWS), G...  \n",
       "3  [Machine Learning, Python (Programming Languag...  \n",
       "4  [Amazon Web Services (AWS), DevOps, Linux Syst...  \n",
       "5  [Linux, Unix, DNS, Data Center, VMware, VMware...  \n",
       "6  [Computer Hardware, Internet Protocol Suite (T...  \n",
       "7  [DevOps, Docker, Linux, Amazon Web Services (A...  \n",
       "8  [Linux, Kubernetes, Docker, Shell Scripting, S...  \n",
       "9  [Python, Git, Jenkins, Web Development, GitHub...  "
      ]
     },
     "execution_count": 7,
     "metadata": {},
     "output_type": "execute_result"
    }
   ],
   "source": [
    "data.head(10)"
   ]
  },
  {
   "cell_type": "markdown",
   "id": "8aafe2b8",
   "metadata": {},
   "source": [
    "## Exporting the clean data to file"
   ]
  },
  {
   "cell_type": "code",
   "execution_count": 9,
   "id": "6758bd26",
   "metadata": {},
   "outputs": [],
   "source": [
    "data.to_json('Data/clean_data_prime-7-6-22.json')"
   ]
  },
  {
   "cell_type": "code",
   "execution_count": null,
   "id": "c93174d0",
   "metadata": {},
   "outputs": [],
   "source": []
  }
 ],
 "metadata": {
  "kernelspec": {
   "display_name": "Python 3 (ipykernel)",
   "language": "python",
   "name": "python3"
  },
  "language_info": {
   "codemirror_mode": {
    "name": "ipython",
    "version": 3
   },
   "file_extension": ".py",
   "mimetype": "text/x-python",
   "name": "python",
   "nbconvert_exporter": "python",
   "pygments_lexer": "ipython3",
   "version": "3.9.7"
  }
 },
 "nbformat": 4,
 "nbformat_minor": 5
}